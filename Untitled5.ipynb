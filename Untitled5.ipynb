{
  "nbformat": 4,
  "nbformat_minor": 0,
  "metadata": {
    "colab": {
      "name": "Untitled5.ipynb",
      "provenance": [],
      "collapsed_sections": [],
      "include_colab_link": true
    },
    "kernelspec": {
      "name": "python3",
      "display_name": "Python 3"
    }
  },
  "cells": [
    {
      "cell_type": "markdown",
      "metadata": {
        "id": "view-in-github",
        "colab_type": "text"
      },
      "source": [
        "<a href=\"https://colab.research.google.com/github/eliasrahimi/Testing/blob/master/Untitled5.ipynb\" target=\"_parent\"><img src=\"https://colab.research.google.com/assets/colab-badge.svg\" alt=\"Open In Colab\"/></a>"
      ]
    },
    {
      "cell_type": "code",
      "metadata": {
        "id": "Iur2a-s7XQa1"
      },
      "source": [
        "import pandas as pd\n",
        "%matplotlib inline\n",
        "import matplotlib.pyplot as plt\n",
        "import numpy as np\n",
        "import copy\n",
        "\n",
        "import warnings\n",
        "warnings.filterwarnings('ignore')"
      ],
      "execution_count": null,
      "outputs": []
    },
    {
      "cell_type": "code",
      "metadata": {
        "id": "-BHapAkuTj8N",
        "outputId": "2882be8b-83d0-45f3-a121-3d16914be9dd",
        "colab": {
          "resources": {
            "http://localhost:8080/nbextensions/google.colab/files.js": {
              "data": "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",
              "ok": true,
              "headers": [
                [
                  "content-type",
                  "application/javascript"
                ]
              ],
              "status": 200,
              "status_text": ""
            }
          },
          "base_uri": "https://localhost:8080/",
          "height": 73
        }
      },
      "source": [
        "from google.colab import files \n",
        "uploaded = files.upload()"
      ],
      "execution_count": null,
      "outputs": [
        {
          "output_type": "display_data",
          "data": {
            "text/html": [
              "\n",
              "     <input type=\"file\" id=\"files-2bf47c02-3e09-47a1-9918-fc67e3a94e03\" name=\"files[]\" multiple disabled\n",
              "        style=\"border:none\" />\n",
              "     <output id=\"result-2bf47c02-3e09-47a1-9918-fc67e3a94e03\">\n",
              "      Upload widget is only available when the cell has been executed in the\n",
              "      current browser session. Please rerun this cell to enable.\n",
              "      </output>\n",
              "      <script src=\"/nbextensions/google.colab/files.js\"></script> "
            ],
            "text/plain": [
              "<IPython.core.display.HTML object>"
            ]
          },
          "metadata": {
            "tags": []
          }
        },
        {
          "output_type": "stream",
          "text": [
            "Saving covidKAP1.csv to covidKAP1 (2).csv\n"
          ],
          "name": "stdout"
        }
      ]
    },
    {
      "cell_type": "code",
      "metadata": {
        "id": "jvtELfhjUFgF",
        "outputId": "46453dd8-60d1-4455-a035-d1694d22ee2e",
        "colab": {
          "base_uri": "https://localhost:8080/",
          "height": 263
        }
      },
      "source": [
        "covid = pd.read_csv(\"covidKAP1.csv\")\n",
        "print(covid)\n"
      ],
      "execution_count": null,
      "outputs": [
        {
          "output_type": "stream",
          "text": [
            "          id  ...              polit\n",
            "0     ID0001  ...         Republican\n",
            "1     ID0002  ...  Prefer not to say\n",
            "2     ID0003  ...  Prefer not to say\n",
            "3     ID0004  ...  Prefer not to say\n",
            "4     ID0005  ...           Democrat\n",
            "...      ...  ...                ...\n",
            "6597  ID6598  ...                NaN\n",
            "6598  ID6599  ...                NaN\n",
            "6599  ID6600  ...                NaN\n",
            "6600  ID6601  ...                NaN\n",
            "6601  ID6602  ...                NaN\n",
            "\n",
            "[6602 rows x 127 columns]\n"
          ],
          "name": "stdout"
        }
      ]
    },
    {
      "cell_type": "markdown",
      "metadata": {
        "id": "nJugNUKXkgqa"
      },
      "source": [
        "**F1**\n",
        "\n",
        "**Del 1 – **\n",
        "**fetstil**\n",
        "frågor om de som besvarade enkäten:\n",
        "F1. Vad är syftet med enkäten? \n",
        "Given the urgent need for data to inform public health messaging to mitigate the spread of the COVID-19 pandemic, this national survey sought to assess the state of COVID-19-related knowledge, beliefs, mental health, substance use changes, and behaviors among a sample of U.S. adults. A survey of U.S. adults was administered online from March 20-30, 2020. The survey collected data on socio-demographic characteristics; COVID-19-related knowledge, awareness and adoption of preventive practices; depression and anxiety (assessed by the Patient Health Questionnaire-4); stress (adapted Impact of Event Scale-6); pessimism; and changes in tobacco and alcohol use( OPENICPSR (2020)."
      ]
    },
    {
      "cell_type": "code",
      "metadata": {
        "id": "vm-TDeBimrvC"
      },
      "source": [
        ""
      ],
      "execution_count": null,
      "outputs": []
    },
    {
      "cell_type": "code",
      "metadata": {
        "id": "46kng331YUoc",
        "outputId": "8abf9817-d942-4809-827a-329b9be7b96d",
        "colab": {
          "base_uri": "https://localhost:8080/",
          "height": 238
        }
      },
      "source": [
        "covid.dtypes"
      ],
      "execution_count": null,
      "outputs": [
        {
          "output_type": "execute_result",
          "data": {
            "text/plain": [
              "id            object\n",
              "start         object\n",
              "end           object\n",
              "record        object\n",
              "prog           int64\n",
              "               ...  \n",
              "work          object\n",
              "healthcare    object\n",
              "child         object\n",
              "educ          object\n",
              "polit         object\n",
              "Length: 127, dtype: object"
            ]
          },
          "metadata": {
            "tags": []
          },
          "execution_count": 90
        }
      ]
    },
    {
      "cell_type": "code",
      "metadata": {
        "id": "TmwiTJu0Yh94",
        "outputId": "6249d6f8-aad0-42b9-85df-ad809ef4257c",
        "colab": {
          "base_uri": "https://localhost:8080/",
          "height": 296
        }
      },
      "source": [
        "covid.head(2)"
      ],
      "execution_count": null,
      "outputs": [
        {
          "output_type": "execute_result",
          "data": {
            "text/html": [
              "<div>\n",
              "<style scoped>\n",
              "    .dataframe tbody tr th:only-of-type {\n",
              "        vertical-align: middle;\n",
              "    }\n",
              "\n",
              "    .dataframe tbody tr th {\n",
              "        vertical-align: top;\n",
              "    }\n",
              "\n",
              "    .dataframe thead th {\n",
              "        text-align: right;\n",
              "    }\n",
              "</style>\n",
              "<table border=\"1\" class=\"dataframe\">\n",
              "  <thead>\n",
              "    <tr style=\"text-align: right;\">\n",
              "      <th></th>\n",
              "      <th>id</th>\n",
              "      <th>start</th>\n",
              "      <th>end</th>\n",
              "      <th>record</th>\n",
              "      <th>prog</th>\n",
              "      <th>duration</th>\n",
              "      <th>18?</th>\n",
              "      <th>US?</th>\n",
              "      <th>sex</th>\n",
              "      <th>age</th>\n",
              "      <th>trip_int</th>\n",
              "      <th>trip_dom</th>\n",
              "      <th>trip_risk</th>\n",
              "      <th>know_1</th>\n",
              "      <th>know_2</th>\n",
              "      <th>know_3</th>\n",
              "      <th>know_4</th>\n",
              "      <th>know_5</th>\n",
              "      <th>know_6</th>\n",
              "      <th>know_7</th>\n",
              "      <th>know_8</th>\n",
              "      <th>know_9</th>\n",
              "      <th>know_10</th>\n",
              "      <th>know_11</th>\n",
              "      <th>know_12</th>\n",
              "      <th>know_13</th>\n",
              "      <th>knowinf_1</th>\n",
              "      <th>knowinf_2</th>\n",
              "      <th>knowinf_3</th>\n",
              "      <th>knowinf_4</th>\n",
              "      <th>knowinf_5</th>\n",
              "      <th>knowinf_6</th>\n",
              "      <th>knowinf_7</th>\n",
              "      <th>knowinf_8</th>\n",
              "      <th>knowinf_9</th>\n",
              "      <th>knowinf_10</th>\n",
              "      <th>search</th>\n",
              "      <th>source_part</th>\n",
              "      <th>source_fam</th>\n",
              "      <th>source_fre</th>\n",
              "      <th>...</th>\n",
              "      <th>belief_9</th>\n",
              "      <th>belief_10</th>\n",
              "      <th>belief_11</th>\n",
              "      <th>belief_12</th>\n",
              "      <th>fedgov_resp</th>\n",
              "      <th>statgov_resp</th>\n",
              "      <th>threat_secur</th>\n",
              "      <th>threat_econ</th>\n",
              "      <th>threat_pers</th>\n",
              "      <th>attid_pol_1</th>\n",
              "      <th>attid_pol_2</th>\n",
              "      <th>attid_pol_3</th>\n",
              "      <th>attid_pol_4</th>\n",
              "      <th>attid_pol_5</th>\n",
              "      <th>attid_pol_6</th>\n",
              "      <th>attid_pol_7</th>\n",
              "      <th>optimism</th>\n",
              "      <th>vote_?</th>\n",
              "      <th>vote_1</th>\n",
              "      <th>vote_2</th>\n",
              "      <th>vote_3</th>\n",
              "      <th>vote_4</th>\n",
              "      <th>anx_1</th>\n",
              "      <th>anx_2</th>\n",
              "      <th>anx_3</th>\n",
              "      <th>anx_4</th>\n",
              "      <th>impact_1</th>\n",
              "      <th>impact_2</th>\n",
              "      <th>impact_3</th>\n",
              "      <th>impact_4</th>\n",
              "      <th>impact_5</th>\n",
              "      <th>impact_6</th>\n",
              "      <th>race</th>\n",
              "      <th>state</th>\n",
              "      <th>urban</th>\n",
              "      <th>work</th>\n",
              "      <th>healthcare</th>\n",
              "      <th>child</th>\n",
              "      <th>educ</th>\n",
              "      <th>polit</th>\n",
              "    </tr>\n",
              "  </thead>\n",
              "  <tbody>\n",
              "    <tr>\n",
              "      <th>0</th>\n",
              "      <td>ID0001</td>\n",
              "      <td>3/20/20 17:04</td>\n",
              "      <td>3/20/20 17:13</td>\n",
              "      <td>3/20/20 17:13</td>\n",
              "      <td>100</td>\n",
              "      <td>535</td>\n",
              "      <td>Yes</td>\n",
              "      <td>Yes</td>\n",
              "      <td>Male</td>\n",
              "      <td>18-29 years old</td>\n",
              "      <td>0</td>\n",
              "      <td>0</td>\n",
              "      <td>High</td>\n",
              "      <td>True</td>\n",
              "      <td>False</td>\n",
              "      <td>False</td>\n",
              "      <td>False</td>\n",
              "      <td>True</td>\n",
              "      <td>True</td>\n",
              "      <td>True</td>\n",
              "      <td>True</td>\n",
              "      <td>True</td>\n",
              "      <td>False</td>\n",
              "      <td>False</td>\n",
              "      <td>False</td>\n",
              "      <td>True</td>\n",
              "      <td>True</td>\n",
              "      <td>False</td>\n",
              "      <td>True</td>\n",
              "      <td>True</td>\n",
              "      <td>True</td>\n",
              "      <td>False</td>\n",
              "      <td>True</td>\n",
              "      <td>True</td>\n",
              "      <td>False</td>\n",
              "      <td>False</td>\n",
              "      <td>Multiple times a day</td>\n",
              "      <td>Yes</td>\n",
              "      <td>Yes</td>\n",
              "      <td>No</td>\n",
              "      <td>...</td>\n",
              "      <td>Strongly Disagree</td>\n",
              "      <td>Strongly Agree</td>\n",
              "      <td>Disagree</td>\n",
              "      <td>Strongly Agree</td>\n",
              "      <td>3.0</td>\n",
              "      <td>4.0</td>\n",
              "      <td>Strongly Agree</td>\n",
              "      <td>Strongly Agree</td>\n",
              "      <td>Strongly Agree</td>\n",
              "      <td>Strongly Agree</td>\n",
              "      <td>Strongly Agree</td>\n",
              "      <td>Agree</td>\n",
              "      <td>Strongly Agree</td>\n",
              "      <td>Strongly Agree</td>\n",
              "      <td>Strongly Agree</td>\n",
              "      <td>Strongly Agree</td>\n",
              "      <td>Strongly Agree</td>\n",
              "      <td>Yes</td>\n",
              "      <td>No</td>\n",
              "      <td>No</td>\n",
              "      <td>No</td>\n",
              "      <td>No</td>\n",
              "      <td>Nearly every day</td>\n",
              "      <td>Nearly every day</td>\n",
              "      <td>Not at all</td>\n",
              "      <td>Several days</td>\n",
              "      <td>Nearly every day</td>\n",
              "      <td>More than half the days</td>\n",
              "      <td>More than half the days</td>\n",
              "      <td>Nearly every day</td>\n",
              "      <td>More than half the days</td>\n",
              "      <td>Nearly every day</td>\n",
              "      <td>White, Non-Hispanic</td>\n",
              "      <td>Illinois</td>\n",
              "      <td>Urban</td>\n",
              "      <td>Unpaid work (e.g., homemaker, eldercare, child...</td>\n",
              "      <td>No</td>\n",
              "      <td>Yes</td>\n",
              "      <td>High School diploma or GED</td>\n",
              "      <td>Republican</td>\n",
              "    </tr>\n",
              "    <tr>\n",
              "      <th>1</th>\n",
              "      <td>ID0002</td>\n",
              "      <td>3/20/20 17:07</td>\n",
              "      <td>3/20/20 17:20</td>\n",
              "      <td>3/20/20 17:20</td>\n",
              "      <td>100</td>\n",
              "      <td>771</td>\n",
              "      <td>Yes</td>\n",
              "      <td>Yes</td>\n",
              "      <td>Female</td>\n",
              "      <td>40-49 years old</td>\n",
              "      <td>0</td>\n",
              "      <td>0</td>\n",
              "      <td>Extremely High</td>\n",
              "      <td>True</td>\n",
              "      <td>False</td>\n",
              "      <td>False</td>\n",
              "      <td>False</td>\n",
              "      <td>True</td>\n",
              "      <td>True</td>\n",
              "      <td>False</td>\n",
              "      <td>True</td>\n",
              "      <td>True</td>\n",
              "      <td>False</td>\n",
              "      <td>False</td>\n",
              "      <td>False</td>\n",
              "      <td>True</td>\n",
              "      <td>True</td>\n",
              "      <td>False</td>\n",
              "      <td>False</td>\n",
              "      <td>True</td>\n",
              "      <td>True</td>\n",
              "      <td>False</td>\n",
              "      <td>True</td>\n",
              "      <td>False</td>\n",
              "      <td>False</td>\n",
              "      <td>False</td>\n",
              "      <td>Multiple times a day</td>\n",
              "      <td>Yes</td>\n",
              "      <td>Yes</td>\n",
              "      <td>No</td>\n",
              "      <td>...</td>\n",
              "      <td>Strongly Disagree</td>\n",
              "      <td>Disagree</td>\n",
              "      <td>Strongly Disagree</td>\n",
              "      <td>Strongly Disagree</td>\n",
              "      <td>0.0</td>\n",
              "      <td>6.0</td>\n",
              "      <td>Strongly Agree</td>\n",
              "      <td>Strongly Agree</td>\n",
              "      <td>Strongly Agree</td>\n",
              "      <td>Strongly Agree</td>\n",
              "      <td>Strongly Disagree</td>\n",
              "      <td>Strongly Agree</td>\n",
              "      <td>Strongly Agree</td>\n",
              "      <td>Strongly Agree</td>\n",
              "      <td>Disagree</td>\n",
              "      <td>Agree</td>\n",
              "      <td>Strongly Disagree</td>\n",
              "      <td>Yes</td>\n",
              "      <td>Yes</td>\n",
              "      <td>Yes</td>\n",
              "      <td>Yes</td>\n",
              "      <td>Yes</td>\n",
              "      <td>Nearly every day</td>\n",
              "      <td>Nearly every day</td>\n",
              "      <td>Nearly every day</td>\n",
              "      <td>Nearly every day</td>\n",
              "      <td>Nearly every day</td>\n",
              "      <td>Nearly every day</td>\n",
              "      <td>Nearly every day</td>\n",
              "      <td>Nearly every day</td>\n",
              "      <td>Nearly every day</td>\n",
              "      <td>Nearly every day</td>\n",
              "      <td>White, Non-Hispanic</td>\n",
              "      <td>Ohio</td>\n",
              "      <td>Suburban</td>\n",
              "      <td>Employed</td>\n",
              "      <td>No</td>\n",
              "      <td>Yes</td>\n",
              "      <td>Bachelor‚Äôs degree</td>\n",
              "      <td>Prefer not to say</td>\n",
              "    </tr>\n",
              "  </tbody>\n",
              "</table>\n",
              "<p>2 rows × 127 columns</p>\n",
              "</div>"
            ],
            "text/plain": [
              "       id          start  ...                        educ              polit\n",
              "0  ID0001  3/20/20 17:04  ...  High School diploma or GED         Republican\n",
              "1  ID0002  3/20/20 17:07  ...         Bachelor‚Äôs degree  Prefer not to say\n",
              "\n",
              "[2 rows x 127 columns]"
            ]
          },
          "metadata": {
            "tags": []
          },
          "execution_count": 157
        }
      ]
    },
    {
      "cell_type": "code",
      "metadata": {
        "id": "KZi3AckrkzP9"
      },
      "source": [
        "covid"
      ],
      "execution_count": null,
      "outputs": []
    },
    {
      "cell_type": "markdown",
      "metadata": {
        "id": "ZOFAQWFzksaM"
      },
      "source": [
        "**F2**\n",
        "F2. Hur många besvarade enkäten? \n"
      ]
    },
    {
      "cell_type": "code",
      "metadata": {
        "id": "hvHYIwSWniyM",
        "outputId": "2c131956-9532-4b3e-9da5-937cfd0f479a",
        "colab": {
          "base_uri": "https://localhost:8080/",
          "height": 51
        }
      },
      "source": [
        "#f2 finns inga NaN-värde i första kolumnerna.\n",
        "covid['start'].isnull().sum()"
      ],
      "execution_count": null,
      "outputs": [
        {
          "output_type": "execute_result",
          "data": {
            "text/plain": [
              "0"
            ]
          },
          "metadata": {
            "tags": []
          },
          "execution_count": 92
        }
      ]
    },
    {
      "cell_type": "code",
      "metadata": {
        "id": "rjKJkeEarI0F",
        "outputId": "2a775fcc-ec17-4c51-b3b5-f9eea5789a10",
        "colab": {
          "base_uri": "https://localhost:8080/",
          "height": 510
        }
      },
      "source": [
        "print(covid)\n",
        "is_NaN = covid.isnull()\n",
        "row_has_NaN = is_NaN.any(axis=1)\n",
        "rows_with_NaN = covid[row_has_NaN]\n",
        "print(rows_with_NaN)"
      ],
      "execution_count": null,
      "outputs": [
        {
          "output_type": "stream",
          "text": [
            "          id  ...              polit\n",
            "0     ID0001  ...         Republican\n",
            "1     ID0002  ...  Prefer not to say\n",
            "2     ID0003  ...  Prefer not to say\n",
            "3     ID0004  ...  Prefer not to say\n",
            "4     ID0005  ...           Democrat\n",
            "...      ...  ...                ...\n",
            "6597  ID6598  ...                NaN\n",
            "6598  ID6599  ...                NaN\n",
            "6599  ID6600  ...                NaN\n",
            "6600  ID6601  ...                NaN\n",
            "6601  ID6602  ...                NaN\n",
            "\n",
            "[6602 rows x 127 columns]\n",
            "          id  ...              polit\n",
            "6     ID0007  ...              Other\n",
            "7     ID0008  ...              Other\n",
            "11    ID0012  ...         Republican\n",
            "16    ID0017  ...         Republican\n",
            "18    ID0019  ...  Prefer not to say\n",
            "...      ...  ...                ...\n",
            "6597  ID6598  ...                NaN\n",
            "6598  ID6599  ...                NaN\n",
            "6599  ID6600  ...                NaN\n",
            "6600  ID6601  ...                NaN\n",
            "6601  ID6602  ...                NaN\n",
            "\n",
            "[3085 rows x 127 columns]\n"
          ],
          "name": "stdout"
        }
      ]
    },
    {
      "cell_type": "markdown",
      "metadata": {
        "id": "H6cTpGxsk0nu"
      },
      "source": [
        "**F3**\n",
        "F3. Hur många besvarade alla frågor i enkäten? \n"
      ]
    },
    {
      "cell_type": "code",
      "metadata": {
        "id": "SX5iuuGVrnES"
      },
      "source": [
        "#f3\n",
        "\n",
        "3085 värden innehåller NaN. 6602-3085 = 3517. Alltså 3517 som svarat på alla."
      ],
      "execution_count": null,
      "outputs": []
    },
    {
      "cell_type": "markdown",
      "metadata": {
        "id": "2_-CygX1k78d"
      },
      "source": [
        "**F4**\n",
        "F4. Hur många kvinnor respektive män besvarade enkäten?\n"
      ]
    },
    {
      "cell_type": "code",
      "metadata": {
        "id": "Z4cZNcuytaFh",
        "outputId": "5d617cec-2e37-4961-9247-04963aa67719",
        "colab": {
          "base_uri": "https://localhost:8080/",
          "height": 119
        }
      },
      "source": [
        "#f4\n",
        "covid['sex'].value_counts()"
      ],
      "execution_count": null,
      "outputs": [
        {
          "output_type": "execute_result",
          "data": {
            "text/plain": [
              "Female                    3688\n",
              "Male                      2633\n",
              "Prefer not to disclose      56\n",
              "Other                       14\n",
              "Name: sex, dtype: int64"
            ]
          },
          "metadata": {
            "tags": []
          },
          "execution_count": 95
        }
      ]
    },
    {
      "cell_type": "markdown",
      "metadata": {
        "id": "qPJounfVlCyu"
      },
      "source": [
        "**F5**\n",
        "\n",
        "F5. Hur många från respektive åldersgrupp besvarade enkäten? \n"
      ]
    },
    {
      "cell_type": "code",
      "metadata": {
        "id": "xnxfo4NxuNVR",
        "outputId": "3086e69e-f480-49c8-8da3-f28105f80194",
        "colab": {
          "base_uri": "https://localhost:8080/",
          "height": 170
        }
      },
      "source": [
        "#f5\n",
        "covid['age'].value_counts()"
      ],
      "execution_count": null,
      "outputs": [
        {
          "output_type": "execute_result",
          "data": {
            "text/plain": [
              "50-59 years old    1758\n",
              "60-69 years old    1409\n",
              "40-49 years old    1177\n",
              "30-39 years old    1038\n",
              "18-29 years old     595\n",
              "70-79 years old     381\n",
              "80+ years old        33\n",
              "Name: age, dtype: int64"
            ]
          },
          "metadata": {
            "tags": []
          },
          "execution_count": 96
        }
      ]
    },
    {
      "cell_type": "code",
      "metadata": {
        "id": "W50cVC1KwVkK"
      },
      "source": [
        ""
      ],
      "execution_count": null,
      "outputs": []
    },
    {
      "cell_type": "markdown",
      "metadata": {
        "id": "--1RD4VAlNY3"
      },
      "source": [
        "**F6**\n",
        "F6. Vad är medelåldern bland de som besvarade enkäten (tips. använd medianåldern för respektive åldersgrupp för att beräkna medelåldern)\n",
        "\n",
        "Om man utgår ifrån value_counts() \n"
      ]
    },
    {
      "cell_type": "code",
      "metadata": {
        "id": "gNSRPL2k0hIA"
      },
      "source": [
        "#F6"
      ],
      "execution_count": null,
      "outputs": []
    },
    {
      "cell_type": "code",
      "metadata": {
        "id": "Gxe1aQ3R2OLM",
        "outputId": "864b9082-573a-47d7-d59f-566f7a26b5c8",
        "colab": {
          "base_uri": "https://localhost:8080/",
          "height": 51
        }
      },
      "source": [
        "covid[[\"age\"]].median()"
      ],
      "execution_count": null,
      "outputs": [
        {
          "output_type": "execute_result",
          "data": {
            "text/plain": [
              "Series([], dtype: float64)"
            ]
          },
          "metadata": {
            "tags": []
          },
          "execution_count": 97
        }
      ]
    },
    {
      "cell_type": "code",
      "metadata": {
        "id": "PnQANaaR4DLE",
        "outputId": "8a26fae9-5f2e-4c34-d391-be2525cda333",
        "colab": {
          "base_uri": "https://localhost:8080/",
          "height": 221
        }
      },
      "source": [
        "covid.groupby(\"sex\").mean()"
      ],
      "execution_count": null,
      "outputs": [
        {
          "output_type": "execute_result",
          "data": {
            "text/html": [
              "<div>\n",
              "<style scoped>\n",
              "    .dataframe tbody tr th:only-of-type {\n",
              "        vertical-align: middle;\n",
              "    }\n",
              "\n",
              "    .dataframe tbody tr th {\n",
              "        vertical-align: top;\n",
              "    }\n",
              "\n",
              "    .dataframe thead th {\n",
              "        text-align: right;\n",
              "    }\n",
              "</style>\n",
              "<table border=\"1\" class=\"dataframe\">\n",
              "  <thead>\n",
              "    <tr style=\"text-align: right;\">\n",
              "      <th></th>\n",
              "      <th>prog</th>\n",
              "      <th>duration</th>\n",
              "      <th>percv_risk</th>\n",
              "      <th>percv_sev</th>\n",
              "      <th>fedgov_resp</th>\n",
              "      <th>statgov_resp</th>\n",
              "    </tr>\n",
              "    <tr>\n",
              "      <th>sex</th>\n",
              "      <th></th>\n",
              "      <th></th>\n",
              "      <th></th>\n",
              "      <th></th>\n",
              "      <th></th>\n",
              "      <th></th>\n",
              "    </tr>\n",
              "  </thead>\n",
              "  <tbody>\n",
              "    <tr>\n",
              "      <th>Female</th>\n",
              "      <td>87.853579</td>\n",
              "      <td>810.127169</td>\n",
              "      <td>5.607724</td>\n",
              "      <td>6.234639</td>\n",
              "      <td>3.190696</td>\n",
              "      <td>4.393599</td>\n",
              "    </tr>\n",
              "    <tr>\n",
              "      <th>Male</th>\n",
              "      <td>85.276870</td>\n",
              "      <td>680.714394</td>\n",
              "      <td>5.129907</td>\n",
              "      <td>5.671795</td>\n",
              "      <td>3.565947</td>\n",
              "      <td>4.510312</td>\n",
              "    </tr>\n",
              "    <tr>\n",
              "      <th>Other</th>\n",
              "      <td>84.785714</td>\n",
              "      <td>522.571429</td>\n",
              "      <td>6.727273</td>\n",
              "      <td>6.090909</td>\n",
              "      <td>1.909091</td>\n",
              "      <td>4.454545</td>\n",
              "    </tr>\n",
              "    <tr>\n",
              "      <th>Prefer not to disclose</th>\n",
              "      <td>78.321429</td>\n",
              "      <td>567.267857</td>\n",
              "      <td>5.095238</td>\n",
              "      <td>6.238095</td>\n",
              "      <td>2.800000</td>\n",
              "      <td>3.925000</td>\n",
              "    </tr>\n",
              "  </tbody>\n",
              "</table>\n",
              "</div>"
            ],
            "text/plain": [
              "                             prog    duration  ...  fedgov_resp  statgov_resp\n",
              "sex                                            ...                           \n",
              "Female                  87.853579  810.127169  ...     3.190696      4.393599\n",
              "Male                    85.276870  680.714394  ...     3.565947      4.510312\n",
              "Other                   84.785714  522.571429  ...     1.909091      4.454545\n",
              "Prefer not to disclose  78.321429  567.267857  ...     2.800000      3.925000\n",
              "\n",
              "[4 rows x 6 columns]"
            ]
          },
          "metadata": {
            "tags": []
          },
          "execution_count": 100
        }
      ]
    },
    {
      "cell_type": "code",
      "metadata": {
        "id": "AMXbcRvu6I6r",
        "outputId": "23d020ec-4215-442e-c4ab-7a4e9ebd53d5",
        "colab": {
          "base_uri": "https://localhost:8080/",
          "height": 314
        }
      },
      "source": [
        "covid.groupby(\"age\").mean()"
      ],
      "execution_count": null,
      "outputs": [
        {
          "output_type": "execute_result",
          "data": {
            "text/html": [
              "<div>\n",
              "<style scoped>\n",
              "    .dataframe tbody tr th:only-of-type {\n",
              "        vertical-align: middle;\n",
              "    }\n",
              "\n",
              "    .dataframe tbody tr th {\n",
              "        vertical-align: top;\n",
              "    }\n",
              "\n",
              "    .dataframe thead th {\n",
              "        text-align: right;\n",
              "    }\n",
              "</style>\n",
              "<table border=\"1\" class=\"dataframe\">\n",
              "  <thead>\n",
              "    <tr style=\"text-align: right;\">\n",
              "      <th></th>\n",
              "      <th>prog</th>\n",
              "      <th>duration</th>\n",
              "      <th>percv_risk</th>\n",
              "      <th>percv_sev</th>\n",
              "      <th>fedgov_resp</th>\n",
              "      <th>statgov_resp</th>\n",
              "    </tr>\n",
              "    <tr>\n",
              "      <th>age</th>\n",
              "      <th></th>\n",
              "      <th></th>\n",
              "      <th></th>\n",
              "      <th></th>\n",
              "      <th></th>\n",
              "      <th></th>\n",
              "    </tr>\n",
              "  </thead>\n",
              "  <tbody>\n",
              "    <tr>\n",
              "      <th>18-29 years old</th>\n",
              "      <td>84.331092</td>\n",
              "      <td>791.907563</td>\n",
              "      <td>5.503185</td>\n",
              "      <td>4.976891</td>\n",
              "      <td>2.995699</td>\n",
              "      <td>4.303226</td>\n",
              "    </tr>\n",
              "    <tr>\n",
              "      <th>30-39 years old</th>\n",
              "      <td>85.168593</td>\n",
              "      <td>631.330443</td>\n",
              "      <td>5.721370</td>\n",
              "      <td>5.490588</td>\n",
              "      <td>2.876391</td>\n",
              "      <td>4.285538</td>\n",
              "    </tr>\n",
              "    <tr>\n",
              "      <th>40-49 years old</th>\n",
              "      <td>87.162277</td>\n",
              "      <td>723.253186</td>\n",
              "      <td>5.611279</td>\n",
              "      <td>5.841365</td>\n",
              "      <td>3.139413</td>\n",
              "      <td>3.985325</td>\n",
              "    </tr>\n",
              "    <tr>\n",
              "      <th>50-59 years old</th>\n",
              "      <td>87.357793</td>\n",
              "      <td>686.728669</td>\n",
              "      <td>5.429341</td>\n",
              "      <td>6.127102</td>\n",
              "      <td>3.532314</td>\n",
              "      <td>4.517026</td>\n",
              "    </tr>\n",
              "    <tr>\n",
              "      <th>60-69 years old</th>\n",
              "      <td>88.124202</td>\n",
              "      <td>792.256210</td>\n",
              "      <td>5.134841</td>\n",
              "      <td>6.528033</td>\n",
              "      <td>3.606655</td>\n",
              "      <td>4.694539</td>\n",
              "    </tr>\n",
              "    <tr>\n",
              "      <th>70-79 years old</th>\n",
              "      <td>86.490814</td>\n",
              "      <td>1102.477690</td>\n",
              "      <td>4.876190</td>\n",
              "      <td>6.920635</td>\n",
              "      <td>3.680645</td>\n",
              "      <td>5.022581</td>\n",
              "    </tr>\n",
              "    <tr>\n",
              "      <th>80+ years old</th>\n",
              "      <td>68.000000</td>\n",
              "      <td>2962.909091</td>\n",
              "      <td>4.500000</td>\n",
              "      <td>6.600000</td>\n",
              "      <td>4.055556</td>\n",
              "      <td>5.444444</td>\n",
              "    </tr>\n",
              "  </tbody>\n",
              "</table>\n",
              "</div>"
            ],
            "text/plain": [
              "                      prog     duration  ...  fedgov_resp  statgov_resp\n",
              "age                                      ...                           \n",
              "18-29 years old  84.331092   791.907563  ...     2.995699      4.303226\n",
              "30-39 years old  85.168593   631.330443  ...     2.876391      4.285538\n",
              "40-49 years old  87.162277   723.253186  ...     3.139413      3.985325\n",
              "50-59 years old  87.357793   686.728669  ...     3.532314      4.517026\n",
              "60-69 years old  88.124202   792.256210  ...     3.606655      4.694539\n",
              "70-79 years old  86.490814  1102.477690  ...     3.680645      5.022581\n",
              "80+ years old    68.000000  2962.909091  ...     4.055556      5.444444\n",
              "\n",
              "[7 rows x 6 columns]"
            ]
          },
          "metadata": {
            "tags": []
          },
          "execution_count": 106
        }
      ]
    },
    {
      "cell_type": "code",
      "metadata": {
        "id": "TCkwdG8k-VgQ",
        "outputId": "a61b9958-a363-4585-f57d-20bef7c27db0",
        "colab": {
          "base_uri": "https://localhost:8080/",
          "height": 345
        }
      },
      "source": [
        "covid.groupby('age').aggregate([ np.mean])"
      ],
      "execution_count": null,
      "outputs": [
        {
          "output_type": "execute_result",
          "data": {
            "text/html": [
              "<div>\n",
              "<style scoped>\n",
              "    .dataframe tbody tr th:only-of-type {\n",
              "        vertical-align: middle;\n",
              "    }\n",
              "\n",
              "    .dataframe tbody tr th {\n",
              "        vertical-align: top;\n",
              "    }\n",
              "\n",
              "    .dataframe thead tr th {\n",
              "        text-align: left;\n",
              "    }\n",
              "\n",
              "    .dataframe thead tr:last-of-type th {\n",
              "        text-align: right;\n",
              "    }\n",
              "</style>\n",
              "<table border=\"1\" class=\"dataframe\">\n",
              "  <thead>\n",
              "    <tr>\n",
              "      <th></th>\n",
              "      <th>prog</th>\n",
              "      <th>duration</th>\n",
              "      <th>percv_risk</th>\n",
              "      <th>percv_sev</th>\n",
              "      <th>fedgov_resp</th>\n",
              "      <th>statgov_resp</th>\n",
              "    </tr>\n",
              "    <tr>\n",
              "      <th></th>\n",
              "      <th>mean</th>\n",
              "      <th>mean</th>\n",
              "      <th>mean</th>\n",
              "      <th>mean</th>\n",
              "      <th>mean</th>\n",
              "      <th>mean</th>\n",
              "    </tr>\n",
              "    <tr>\n",
              "      <th>age</th>\n",
              "      <th></th>\n",
              "      <th></th>\n",
              "      <th></th>\n",
              "      <th></th>\n",
              "      <th></th>\n",
              "      <th></th>\n",
              "    </tr>\n",
              "  </thead>\n",
              "  <tbody>\n",
              "    <tr>\n",
              "      <th>18-29 years old</th>\n",
              "      <td>84.331092</td>\n",
              "      <td>791.907563</td>\n",
              "      <td>5.503185</td>\n",
              "      <td>4.976891</td>\n",
              "      <td>2.995699</td>\n",
              "      <td>4.303226</td>\n",
              "    </tr>\n",
              "    <tr>\n",
              "      <th>30-39 years old</th>\n",
              "      <td>85.168593</td>\n",
              "      <td>631.330443</td>\n",
              "      <td>5.721370</td>\n",
              "      <td>5.490588</td>\n",
              "      <td>2.876391</td>\n",
              "      <td>4.285538</td>\n",
              "    </tr>\n",
              "    <tr>\n",
              "      <th>40-49 years old</th>\n",
              "      <td>87.162277</td>\n",
              "      <td>723.253186</td>\n",
              "      <td>5.611279</td>\n",
              "      <td>5.841365</td>\n",
              "      <td>3.139413</td>\n",
              "      <td>3.985325</td>\n",
              "    </tr>\n",
              "    <tr>\n",
              "      <th>50-59 years old</th>\n",
              "      <td>87.357793</td>\n",
              "      <td>686.728669</td>\n",
              "      <td>5.429341</td>\n",
              "      <td>6.127102</td>\n",
              "      <td>3.532314</td>\n",
              "      <td>4.517026</td>\n",
              "    </tr>\n",
              "    <tr>\n",
              "      <th>60-69 years old</th>\n",
              "      <td>88.124202</td>\n",
              "      <td>792.256210</td>\n",
              "      <td>5.134841</td>\n",
              "      <td>6.528033</td>\n",
              "      <td>3.606655</td>\n",
              "      <td>4.694539</td>\n",
              "    </tr>\n",
              "    <tr>\n",
              "      <th>70-79 years old</th>\n",
              "      <td>86.490814</td>\n",
              "      <td>1102.477690</td>\n",
              "      <td>4.876190</td>\n",
              "      <td>6.920635</td>\n",
              "      <td>3.680645</td>\n",
              "      <td>5.022581</td>\n",
              "    </tr>\n",
              "    <tr>\n",
              "      <th>80+ years old</th>\n",
              "      <td>68.000000</td>\n",
              "      <td>2962.909091</td>\n",
              "      <td>4.500000</td>\n",
              "      <td>6.600000</td>\n",
              "      <td>4.055556</td>\n",
              "      <td>5.444444</td>\n",
              "    </tr>\n",
              "  </tbody>\n",
              "</table>\n",
              "</div>"
            ],
            "text/plain": [
              "                      prog     duration  ... fedgov_resp statgov_resp\n",
              "                      mean         mean  ...        mean         mean\n",
              "age                                      ...                         \n",
              "18-29 years old  84.331092   791.907563  ...    2.995699     4.303226\n",
              "30-39 years old  85.168593   631.330443  ...    2.876391     4.285538\n",
              "40-49 years old  87.162277   723.253186  ...    3.139413     3.985325\n",
              "50-59 years old  87.357793   686.728669  ...    3.532314     4.517026\n",
              "60-69 years old  88.124202   792.256210  ...    3.606655     4.694539\n",
              "70-79 years old  86.490814  1102.477690  ...    3.680645     5.022581\n",
              "80+ years old    68.000000  2962.909091  ...    4.055556     5.444444\n",
              "\n",
              "[7 rows x 6 columns]"
            ]
          },
          "metadata": {
            "tags": []
          },
          "execution_count": 116
        }
      ]
    },
    {
      "cell_type": "code",
      "metadata": {
        "id": "04Mdoj-0Al98",
        "outputId": "bc062a1a-c864-45b5-a5bd-a99a284f7a24",
        "colab": {
          "base_uri": "https://localhost:8080/",
          "height": 332
        }
      },
      "source": [
        "display('covid', covid.groupby(covid['age']).sum())"
      ],
      "execution_count": null,
      "outputs": [
        {
          "output_type": "display_data",
          "data": {
            "application/vnd.google.colaboratory.intrinsic+json": {
              "type": "string"
            },
            "text/plain": [
              "'covid'"
            ]
          },
          "metadata": {
            "tags": []
          }
        },
        {
          "output_type": "display_data",
          "data": {
            "text/html": [
              "<div>\n",
              "<style scoped>\n",
              "    .dataframe tbody tr th:only-of-type {\n",
              "        vertical-align: middle;\n",
              "    }\n",
              "\n",
              "    .dataframe tbody tr th {\n",
              "        vertical-align: top;\n",
              "    }\n",
              "\n",
              "    .dataframe thead th {\n",
              "        text-align: right;\n",
              "    }\n",
              "</style>\n",
              "<table border=\"1\" class=\"dataframe\">\n",
              "  <thead>\n",
              "    <tr style=\"text-align: right;\">\n",
              "      <th></th>\n",
              "      <th>prog</th>\n",
              "      <th>duration</th>\n",
              "      <th>percv_risk</th>\n",
              "      <th>percv_sev</th>\n",
              "      <th>fedgov_resp</th>\n",
              "      <th>statgov_resp</th>\n",
              "    </tr>\n",
              "    <tr>\n",
              "      <th>age</th>\n",
              "      <th></th>\n",
              "      <th></th>\n",
              "      <th></th>\n",
              "      <th></th>\n",
              "      <th></th>\n",
              "      <th></th>\n",
              "    </tr>\n",
              "  </thead>\n",
              "  <tbody>\n",
              "    <tr>\n",
              "      <th>18-29 years old</th>\n",
              "      <td>50177</td>\n",
              "      <td>471185</td>\n",
              "      <td>2592.0</td>\n",
              "      <td>2369.0</td>\n",
              "      <td>1393.0</td>\n",
              "      <td>2001.0</td>\n",
              "    </tr>\n",
              "    <tr>\n",
              "      <th>30-39 years old</th>\n",
              "      <td>88405</td>\n",
              "      <td>655321</td>\n",
              "      <td>4846.0</td>\n",
              "      <td>4667.0</td>\n",
              "      <td>2327.0</td>\n",
              "      <td>3467.0</td>\n",
              "    </tr>\n",
              "    <tr>\n",
              "      <th>40-49 years old</th>\n",
              "      <td>102590</td>\n",
              "      <td>851269</td>\n",
              "      <td>5572.0</td>\n",
              "      <td>5818.0</td>\n",
              "      <td>2995.0</td>\n",
              "      <td>3802.0</td>\n",
              "    </tr>\n",
              "    <tr>\n",
              "      <th>50-59 years old</th>\n",
              "      <td>153575</td>\n",
              "      <td>1207269</td>\n",
              "      <td>8068.0</td>\n",
              "      <td>9111.0</td>\n",
              "      <td>5083.0</td>\n",
              "      <td>6500.0</td>\n",
              "    </tr>\n",
              "    <tr>\n",
              "      <th>60-69 years old</th>\n",
              "      <td>124167</td>\n",
              "      <td>1116289</td>\n",
              "      <td>6131.0</td>\n",
              "      <td>7801.0</td>\n",
              "      <td>4227.0</td>\n",
              "      <td>5502.0</td>\n",
              "    </tr>\n",
              "    <tr>\n",
              "      <th>70-79 years old</th>\n",
              "      <td>32953</td>\n",
              "      <td>420044</td>\n",
              "      <td>1536.0</td>\n",
              "      <td>2180.0</td>\n",
              "      <td>1141.0</td>\n",
              "      <td>1557.0</td>\n",
              "    </tr>\n",
              "    <tr>\n",
              "      <th>80+ years old</th>\n",
              "      <td>2244</td>\n",
              "      <td>97776</td>\n",
              "      <td>90.0</td>\n",
              "      <td>132.0</td>\n",
              "      <td>73.0</td>\n",
              "      <td>98.0</td>\n",
              "    </tr>\n",
              "  </tbody>\n",
              "</table>\n",
              "</div>"
            ],
            "text/plain": [
              "                   prog  duration  ...  fedgov_resp  statgov_resp\n",
              "age                                ...                           \n",
              "18-29 years old   50177    471185  ...       1393.0        2001.0\n",
              "30-39 years old   88405    655321  ...       2327.0        3467.0\n",
              "40-49 years old  102590    851269  ...       2995.0        3802.0\n",
              "50-59 years old  153575   1207269  ...       5083.0        6500.0\n",
              "60-69 years old  124167   1116289  ...       4227.0        5502.0\n",
              "70-79 years old   32953    420044  ...       1141.0        1557.0\n",
              "80+ years old      2244     97776  ...         73.0          98.0\n",
              "\n",
              "[7 rows x 6 columns]"
            ]
          },
          "metadata": {
            "tags": []
          }
        }
      ]
    },
    {
      "cell_type": "code",
      "metadata": {
        "id": "MtYbiwZDESIz"
      },
      "source": [
        "covid.groupby('age').agg('count'median')"
      ],
      "execution_count": null,
      "outputs": []
    },
    {
      "cell_type": "markdown",
      "metadata": {
        "id": "biqxOB43lU9W"
      },
      "source": [
        "**F7**\n",
        "\n",
        "F7. Ändrade beteenden. Sortera de beteende som förändras, sedan corona, efter andel personer har ändrat sitt beteende. Dvs. börja med det beteende som störst andel har förändrat och avsluta med det beteende som minsta andelen har förändrat. (behav_1 till behav_12)."
      ]
    },
    {
      "cell_type": "code",
      "metadata": {
        "id": "yBqeYHoPIiNk"
      },
      "source": [
        "#f7 (behav_1 till behav_12).\n"
      ],
      "execution_count": null,
      "outputs": []
    },
    {
      "cell_type": "code",
      "metadata": {
        "id": "oFB0uEIIIiKu",
        "outputId": "ff33ab87-15e4-4db4-c7aa-7362f4f23821",
        "colab": {
          "base_uri": "https://localhost:8080/",
          "height": 85
        }
      },
      "source": [
        "covid['behav_1'].value_counts()\n"
      ],
      "execution_count": 340,
      "outputs": [
        {
          "output_type": "execute_result",
          "data": {
            "text/plain": [
              "False    5040\n",
              "True      446\n",
              "Name: behav_1, dtype: int64"
            ]
          },
          "metadata": {
            "tags": []
          },
          "execution_count": 340
        }
      ]
    },
    {
      "cell_type": "code",
      "metadata": {
        "id": "87QE5G0oIjAr",
        "outputId": "77cbc27b-fce6-45cf-a54f-bc13cb449cd2",
        "colab": {
          "base_uri": "https://localhost:8080/",
          "height": 85
        }
      },
      "source": [
        "covid['behav_12'].value_counts()\n"
      ],
      "execution_count": 341,
      "outputs": [
        {
          "output_type": "execute_result",
          "data": {
            "text/plain": [
              "False    4864\n",
              "True      622\n",
              "Name: behav_12, dtype: int64"
            ]
          },
          "metadata": {
            "tags": []
          },
          "execution_count": 341
        }
      ]
    },
    {
      "cell_type": "code",
      "metadata": {
        "id": "52EcNmBOEOD-"
      },
      "source": [
        "changed_behavior = []\n",
        "not_changed_bahavior = []\n",
        "for i in range(len(covid)):\n",
        " if covid['behav_1'][i] is not '0':\n",
        "   changed_behavior.append(covid['behav_12'][i])\n",
        " elif covid['behav_1'][i] is '0':\n",
        "   not_changed_bahavior.append(covid['behav_12'][i])\n",
        "i +=1"
      ],
      "execution_count": 342,
      "outputs": []
    },
    {
      "cell_type": "code",
      "metadata": {
        "id": "0ajVKJVFFFFA"
      },
      "source": [
        "from pandas import DataFrame\n",
        "c_behavior = DataFrame(changed_behavior,columns=[0])\n",
        "not_ch_bahavior = DataFrame(not_changed_bahavior,columns=[0])"
      ],
      "execution_count": 343,
      "outputs": []
    },
    {
      "cell_type": "code",
      "metadata": {
        "id": "ub_N9uEFGrgu",
        "outputId": "c8abe16c-868d-4334-b621-45d41821848b",
        "colab": {
          "base_uri": "https://localhost:8080/",
          "height": 85
        }
      },
      "source": [
        "c_behavior.value_counts()\n"
      ],
      "execution_count": 344,
      "outputs": [
        {
          "output_type": "execute_result",
          "data": {
            "text/plain": [
              "False    4864\n",
              "True      622\n",
              "dtype: int64"
            ]
          },
          "metadata": {
            "tags": []
          },
          "execution_count": 344
        }
      ]
    },
    {
      "cell_type": "code",
      "metadata": {
        "id": "Yk4yT0A-G_WP",
        "outputId": "b19d2e13-46ab-4e22-fc57-6c18b0074d29",
        "colab": {
          "base_uri": "https://localhost:8080/",
          "height": 51
        }
      },
      "source": [
        "not_ch_bahavior.value_counts()"
      ],
      "execution_count": 345,
      "outputs": [
        {
          "output_type": "execute_result",
          "data": {
            "text/plain": [
              "Series([], dtype: int64)"
            ]
          },
          "metadata": {
            "tags": []
          },
          "execution_count": 345
        }
      ]
    },
    {
      "cell_type": "code",
      "metadata": {
        "id": "5XuzYw5MJeZ7",
        "outputId": "e9d7ffe3-f42f-4205-ed5c-abe765c59365",
        "colab": {
          "base_uri": "https://localhost:8080/",
          "height": 51
        }
      },
      "source": [
        "covid['behav_1'][1]"
      ],
      "execution_count": 348,
      "outputs": [
        {
          "output_type": "execute_result",
          "data": {
            "text/plain": [
              "False"
            ]
          },
          "metadata": {
            "tags": []
          },
          "execution_count": 348
        }
      ]
    },
    {
      "cell_type": "code",
      "metadata": {
        "id": "oJo6ujtFJfUJ",
        "outputId": "e95d08f5-5a3a-4af6-db83-7be5a56a594a",
        "colab": {
          "base_uri": "https://localhost:8080/",
          "height": 51
        }
      },
      "source": [
        "covid['behav_12'][1]"
      ],
      "execution_count": 349,
      "outputs": [
        {
          "output_type": "execute_result",
          "data": {
            "text/plain": [
              "False"
            ]
          },
          "metadata": {
            "tags": []
          },
          "execution_count": 349
        }
      ]
    },
    {
      "cell_type": "code",
      "metadata": {
        "id": "_KzMAYShJaDo",
        "outputId": "fe219d8e-ff9f-41d4-f27a-08bfeb0c93ad",
        "colab": {
          "base_uri": "https://localhost:8080/",
          "height": 136
        }
      },
      "source": [
        "print(covid['behav_1'].value_counts(normalize=True))\n",
        "print(covid['behav_12'].value_counts(normalize=True))"
      ],
      "execution_count": null,
      "outputs": [
        {
          "output_type": "stream",
          "text": [
            "False    0.918702\n",
            "True     0.081298\n",
            "Name: behav_1, dtype: float64\n",
            "False    0.88662\n",
            "True     0.11338\n",
            "Name: behav_12, dtype: float64\n"
          ],
          "name": "stdout"
        }
      ]
    },
    {
      "cell_type": "code",
      "metadata": {
        "id": "xe9HiuZELRwL",
        "outputId": "876e44a0-5890-4632-fe75-836368c23067",
        "colab": {
          "base_uri": "https://localhost:8080/",
          "height": 85
        }
      },
      "source": [
        "print(covid['behav_1'].value_counts(normalize=True))"
      ],
      "execution_count": null,
      "outputs": [
        {
          "output_type": "stream",
          "text": [
            "False    0.918702\n",
            "True     0.081298\n",
            "Name: behav_1, dtype: float64\n"
          ],
          "name": "stdout"
        }
      ]
    },
    {
      "cell_type": "code",
      "metadata": {
        "id": "j4sEH6k3L6-9",
        "outputId": "f687fa5a-81c1-41ad-8ad5-2dc22cee0ea5",
        "colab": {
          "base_uri": "https://localhost:8080/",
          "height": 136
        }
      },
      "source": [
        "covid.columnss"
      ],
      "execution_count": null,
      "outputs": [
        {
          "output_type": "execute_result",
          "data": {
            "text/plain": [
              "Index(['id', 'start', 'end', 'record', 'prog', 'duration', '18?', 'US?', 'sex',\n",
              "       'age',\n",
              "       ...\n",
              "       'impact_5', 'impact_6', 'race', 'state', 'urban', 'work', 'healthcare',\n",
              "       'child', 'educ', 'polit'],\n",
              "      dtype='object', length=127)"
            ]
          },
          "metadata": {
            "tags": []
          },
          "execution_count": 164
        }
      ]
    },
    {
      "cell_type": "code",
      "metadata": {
        "id": "0Omz_HxONZJS",
        "outputId": "01477ec5-3e7f-4ade-b72b-3e5c22364b7b",
        "colab": {
          "base_uri": "https://localhost:8080/",
          "height": 119
        }
      },
      "source": [
        "covid['age'].describe()"
      ],
      "execution_count": null,
      "outputs": [
        {
          "output_type": "execute_result",
          "data": {
            "text/plain": [
              "count                6391\n",
              "unique                  7\n",
              "top       50-59 years old\n",
              "freq                 1758\n",
              "Name: age, dtype: object"
            ]
          },
          "metadata": {
            "tags": []
          },
          "execution_count": 166
        }
      ]
    },
    {
      "cell_type": "code",
      "metadata": {
        "id": "czPI6Cm9N4BQ",
        "outputId": "ba32bc34-9dc1-46b3-bc3e-d30334e308da",
        "colab": {
          "base_uri": "https://localhost:8080/",
          "height": 170
        }
      },
      "source": [
        "changed_behavior1 = covid.groupby('behav_1')['behav_1'].count()\n",
        "print(changed_behavior1)\n",
        "\n",
        "changed_behavior = covid.groupby('behav_12')['behav_12'].count()\n",
        "print(changed_behavior)\n"
      ],
      "execution_count": null,
      "outputs": [
        {
          "output_type": "stream",
          "text": [
            "behav_1\n",
            "False    5040\n",
            "True      446\n",
            "Name: behav_1, dtype: int64\n",
            "behav_12\n",
            "False    4864\n",
            "True      622\n",
            "Name: behav_12, dtype: int64\n"
          ],
          "name": "stdout"
        }
      ]
    },
    {
      "cell_type": "markdown",
      "metadata": {
        "id": "2UnWhysXloD7"
      },
      "source": [
        "\n",
        "**Del 2 –** deskriptiv analys I denna del har ett antal hypoteser ställts upp gällande hur corona påverkat människor i USA. Er uppgift är att för var och en av dessa hypoteser ta reda på om ni kan finna support för den eller om ni bör förkasta den\n"
      ]
    },
    {
      "cell_type": "markdown",
      "metadata": {
        "id": "etl4pZzGmF9W"
      },
      "source": [
        "**H1**.Myndigheter är den källa som flest anser är mest pålitligt som informationskälla gällande Coronaviruset. (source_most) "
      ]
    },
    {
      "cell_type": "code",
      "metadata": {
        "id": "wA1kAGKWoRan"
      },
      "source": [
        "covid['source_most'].value_counts()\n",
        "#Påståendet kan styrkas med att myndigheter har flest röster"
      ],
      "execution_count": null,
      "outputs": []
    },
    {
      "cell_type": "code",
      "metadata": {
        "id": "jRut7mPli6_Q"
      },
      "source": [
        ""
      ],
      "execution_count": null,
      "outputs": []
    },
    {
      "cell_type": "markdown",
      "metadata": {
        "id": "VbEVPMPxmKd3"
      },
      "source": [
        "**H2.**Av dem som flyger inrikes mycket är andelen som tror att risken för att få corona vid flygning lägre, jämfört med dem som inte flyger alls. (**trip_dom; trip_risk) **"
      ]
    },
    {
      "cell_type": "code",
      "metadata": {
        "id": "8p70WF3So04U",
        "outputId": "f937961d-b8b6-4ad3-d53d-14d863e5e97b",
        "colab": {
          "base_uri": "https://localhost:8080/",
          "height": 122
        }
      },
      "source": [
        "covid['trip_dom'].value_counts()\n"
      ],
      "execution_count": null,
      "outputs": [
        {
          "output_type": "execute_result",
          "data": {
            "text/plain": [
              "0            4973\n",
              "2-Jan        1128\n",
              "4-Mar         212\n",
              "7 or more      49\n",
              "6-May          29\n",
              "Name: trip_dom, dtype: int64"
            ]
          },
          "metadata": {
            "tags": []
          },
          "execution_count": 10
        }
      ]
    },
    {
      "cell_type": "code",
      "metadata": {
        "id": "898GwbndpGzd",
        "outputId": "f409280e-b1f6-47dd-9586-5ddcc354d885",
        "colab": {
          "base_uri": "https://localhost:8080/",
          "height": 122
        }
      },
      "source": [
        "covid['trip_risk'].value_counts()"
      ],
      "execution_count": null,
      "outputs": [
        {
          "output_type": "execute_result",
          "data": {
            "text/plain": [
              "Moderate          1903\n",
              "High              1486\n",
              "Extremely Low     1313\n",
              "Extremely High     872\n",
              "Low                817\n",
              "Name: trip_risk, dtype: int64"
            ]
          },
          "metadata": {
            "tags": []
          },
          "execution_count": 11
        }
      ]
    },
    {
      "cell_type": "code",
      "metadata": {
        "id": "xZ_Y2ClO_mxD"
      },
      "source": [
        "fly_risk = []\n",
        "non_flyer_risk = []\n",
        "for i in range(len(covid)):\n",
        " if covid['trip_dom'][i] is not '0':\n",
        "   fly_risk.append(covid['trip_risk'][i])\n",
        " elif covid['trip_dom'][i] is '0':\n",
        "   non_flyer_risk.append(covid['trip_risk'][i])\n",
        "i +=1"
      ],
      "execution_count": null,
      "outputs": []
    },
    {
      "cell_type": "code",
      "metadata": {
        "id": "HEEb3slZ_n6O"
      },
      "source": [
        "from pandas import DataFrame\n",
        "f_risk = DataFrame(fly_risk,columns=[0])\n",
        "risk = DataFrame(non_flyer_risk,columns=[0])"
      ],
      "execution_count": null,
      "outputs": []
    },
    {
      "cell_type": "code",
      "metadata": {
        "id": "aZ7CB2FF4kZ_",
        "outputId": "a2813a16-78d3-4f03-d5a1-2d16f044dcc5",
        "colab": {
          "base_uri": "https://localhost:8080/",
          "height": 121
        }
      },
      "source": [
        "risk.value_counts()"
      ],
      "execution_count": null,
      "outputs": [
        {
          "output_type": "execute_result",
          "data": {
            "text/plain": [
              "Moderate          1338\n",
              "Extremely Low     1174\n",
              "High              1154\n",
              "Extremely High     732\n",
              "Low                575\n",
              "dtype: int64"
            ]
          },
          "metadata": {
            "tags": []
          },
          "execution_count": 79
        }
      ]
    },
    {
      "cell_type": "code",
      "metadata": {
        "id": "kXWoB-C11vyD",
        "outputId": "79c5f323-a8cb-45d1-b9d7-0e9ff5b02a54",
        "colab": {
          "base_uri": "https://localhost:8080/",
          "height": 121
        }
      },
      "source": [
        "f_risk.value_counts()"
      ],
      "execution_count": null,
      "outputs": [
        {
          "output_type": "execute_result",
          "data": {
            "text/plain": [
              "Moderate          565\n",
              "High              332\n",
              "Low               242\n",
              "Extremely High    140\n",
              "Extremely Low     139\n",
              "dtype: int64"
            ]
          },
          "metadata": {
            "tags": []
          },
          "execution_count": 80
        }
      ]
    },
    {
      "cell_type": "code",
      "metadata": {
        "id": "uVrWoQiniO4C",
        "outputId": "ecf43165-aab5-4b9f-e35e-192aafdd8327",
        "colab": {
          "base_uri": "https://localhost:8080/",
          "height": 380
        }
      },
      "source": [
        "plt.figure(figsize=(15,5))\n",
        "plt.ylabel('trip_risk', fontsize=20)\n",
        "plt.xlabel('trip_dom', fontsize=20)\n",
        "plt.plot(covid['trip_dom'].value_counts().sort_index())\n"
      ],
      "execution_count": 448,
      "outputs": [
        {
          "output_type": "execute_result",
          "data": {
            "text/plain": [
              "[<matplotlib.lines.Line2D at 0x7f23e10cf9e8>]"
            ]
          },
          "metadata": {
            "tags": []
          },
          "execution_count": 448
        },
        {
          "output_type": "display_data",
          "data": {
            "image/png": "[encoded data removed]",
            "text/plain": [
              "<Figure size 1080x360 with 1 Axes>"
            ]
          },
          "metadata": {
            "tags": []
          }
        }
      ]
    },
    {
      "cell_type": "markdown",
      "metadata": {
        "id": "KOjP8HZrmSpG"
      },
      "source": [
        "**H3**.Av de som inte kan sluta eller kontrollera sin oro nästan varje dag (’Nearly every day’) har mer än 80 % köpt en ansiktsmask. (behav_2; anx_2)"
      ]
    },
    {
      "cell_type": "code",
      "metadata": {
        "id": "RYATpHRdIB8g",
        "outputId": "6d3d59c4-7148-4958-f793-6a9bc3adc476",
        "colab": {
          "base_uri": "https://localhost:8080/",
          "height": 85
        }
      },
      "source": [
        "covid['behav_2'].value_counts()\n"
      ],
      "execution_count": 327,
      "outputs": [
        {
          "output_type": "execute_result",
          "data": {
            "text/plain": [
              "False    4431\n",
              "True     1055\n",
              "Name: behav_2, dtype: int64"
            ]
          },
          "metadata": {
            "tags": []
          },
          "execution_count": 327
        }
      ]
    },
    {
      "cell_type": "code",
      "metadata": {
        "id": "GD7QMyN9IHiV"
      },
      "source": [
        "covid['anx_2'].value_counts()\n"
      ],
      "execution_count": null,
      "outputs": []
    },
    {
      "cell_type": "code",
      "metadata": {
        "id": "wfu8S6zZ5wmG"
      },
      "source": [
        "nearly = []\n",
        "for i in range(len(covid)):\n",
        " if covid['behav_2'][i] is not '0':\n",
        "   nearly.append(covid['anx_2'][i])\n",
        "   i +=1"
      ],
      "execution_count": 329,
      "outputs": []
    },
    {
      "cell_type": "code",
      "metadata": {
        "id": "NGNL8Gmg52Tq"
      },
      "source": [
        "non_nearly = []\n",
        "for i in range(len(covid)):\n",
        " if covid['behav_2'][i] is '0':\n",
        "   non_nearly.append(covid['anx_2'][i])\n",
        "   i +=1"
      ],
      "execution_count": 330,
      "outputs": []
    },
    {
      "cell_type": "code",
      "metadata": {
        "id": "vv_oE_oW56LH",
        "outputId": "5f40ab0a-9c24-47f8-f860-fc0e9b129e1b",
        "colab": {
          "base_uri": "https://localhost:8080/",
          "height": 272
        }
      },
      "source": [
        "from pandas import DataFrame\n",
        "nearly = DataFrame(nearly,columns=[0])\n",
        "print (nearly)"
      ],
      "execution_count": 331,
      "outputs": [
        {
          "output_type": "stream",
          "text": [
            "                            0\n",
            "0            Nearly every day\n",
            "1            Nearly every day\n",
            "2            Nearly every day\n",
            "3                  Not at all\n",
            "4                  Not at all\n",
            "...                       ...\n",
            "6597                      NaN\n",
            "6598                      NaN\n",
            "6599                      NaN\n",
            "6600  More than half the days\n",
            "6601                      NaN\n",
            "\n",
            "[6602 rows x 1 columns]\n"
          ],
          "name": "stdout"
        }
      ]
    },
    {
      "cell_type": "code",
      "metadata": {
        "id": "io2ykyFv5-JV",
        "outputId": "e1719f0c-945f-49c7-dae6-cf8b830dc9ce",
        "colab": {
          "base_uri": "https://localhost:8080/",
          "height": 85
        }
      },
      "source": [
        "from pandas import DataFrame\n",
        "non_nearly = DataFrame(non_nearly,columns=[0])\n",
        "print (non_nearly)"
      ],
      "execution_count": 332,
      "outputs": [
        {
          "output_type": "stream",
          "text": [
            "Empty DataFrame\n",
            "Columns: [0]\n",
            "Index: []\n"
          ],
          "name": "stdout"
        }
      ]
    },
    {
      "cell_type": "code",
      "metadata": {
        "id": "sNcfOKhc7aZu",
        "outputId": "ed9aadcf-063a-4383-84db-6c17d4f2f16b",
        "colab": {
          "base_uri": "https://localhost:8080/",
          "height": 119
        }
      },
      "source": [
        "nearly.value_counts()"
      ],
      "execution_count": 333,
      "outputs": [
        {
          "output_type": "execute_result",
          "data": {
            "text/plain": [
              "Not at all                 1554\n",
              "Several days               1362\n",
              "Nearly every day           1290\n",
              "More than half the days     838\n",
              "dtype: int64"
            ]
          },
          "metadata": {
            "tags": []
          },
          "execution_count": 333
        }
      ]
    },
    {
      "cell_type": "code",
      "metadata": {
        "id": "SnbR5TC17ewp",
        "outputId": "124ada47-226f-459c-d447-2e3f7b8256c0",
        "colab": {
          "base_uri": "https://localhost:8080/",
          "height": 51
        }
      },
      "source": [
        "non_nearly.value_counts()"
      ],
      "execution_count": 334,
      "outputs": [
        {
          "output_type": "execute_result",
          "data": {
            "text/plain": [
              "Series([], dtype: int64)"
            ]
          },
          "metadata": {
            "tags": []
          },
          "execution_count": 334
        }
      ]
    },
    {
      "cell_type": "code",
      "metadata": {
        "id": "ezsdpZtpA6nH"
      },
      "source": [
        "nearly_ansiktsmask = []\n",
        "non_nearly_ansiktsmask = []\n",
        "for i in range(len(covid)):\n",
        " if covid['behav_2'][i] is not '0':\n",
        "   nearly_ansiktsmask.append(covid['anx_2'][i])\n",
        " elif covid['behav_2'][i] is '0':\n",
        "   non_nearly_ansiktsmask.append(covid['anx_2'][i])\n",
        "i +=1"
      ],
      "execution_count": 336,
      "outputs": []
    },
    {
      "cell_type": "code",
      "metadata": {
        "id": "qxufndrlCF0D"
      },
      "source": [
        "from pandas import DataFrame\n",
        "nearly_ansiktsmask = DataFrame(nearly_ansiktsmask,columns=[0])\n",
        "ansiktsmask = DataFrame(non_nearly_ansiktsmask,columns=[0])"
      ],
      "execution_count": 337,
      "outputs": []
    },
    {
      "cell_type": "code",
      "metadata": {
        "id": "YNBNzHSwCuG-",
        "outputId": "58277db4-4b9a-4d7e-c6b7-2b424fbac0e3",
        "colab": {
          "base_uri": "https://localhost:8080/",
          "height": 119
        }
      },
      "source": [
        "nearly_ansiktsmask.value_counts()"
      ],
      "execution_count": 338,
      "outputs": [
        {
          "output_type": "execute_result",
          "data": {
            "text/plain": [
              "Not at all                 1554\n",
              "Several days               1362\n",
              "Nearly every day           1290\n",
              "More than half the days     838\n",
              "dtype: int64"
            ]
          },
          "metadata": {
            "tags": []
          },
          "execution_count": 338
        }
      ]
    },
    {
      "cell_type": "code",
      "metadata": {
        "id": "ySMl5EsICzoR",
        "outputId": "e977988e-9ad6-4de5-f4a4-2de38be798ac",
        "colab": {
          "base_uri": "https://localhost:8080/",
          "height": 51
        }
      },
      "source": [
        "ansiktsmask.value_counts()"
      ],
      "execution_count": 339,
      "outputs": [
        {
          "output_type": "execute_result",
          "data": {
            "text/plain": [
              "Series([], dtype: int64)"
            ]
          },
          "metadata": {
            "tags": []
          },
          "execution_count": 339
        }
      ]
    },
    {
      "cell_type": "code",
      "metadata": {
        "id": "wpAAsfc5JCMa",
        "outputId": "498d05f9-aecf-4c22-f582-e8a11765911b",
        "colab": {
          "base_uri": "https://localhost:8080/",
          "height": 51
        }
      },
      "source": [
        "covid['behav_12'][1]"
      ],
      "execution_count": 346,
      "outputs": [
        {
          "output_type": "execute_result",
          "data": {
            "text/plain": [
              "False"
            ]
          },
          "metadata": {
            "tags": []
          },
          "execution_count": 346
        }
      ]
    },
    {
      "cell_type": "code",
      "metadata": {
        "id": "R7L8pvkRJI6G",
        "outputId": "6008bc18-7b5b-4a91-9f51-19f39e72a691",
        "colab": {
          "base_uri": "https://localhost:8080/",
          "height": 52
        }
      },
      "source": [
        "covid['anx_2'][1]"
      ],
      "execution_count": 347,
      "outputs": [
        {
          "output_type": "execute_result",
          "data": {
            "application/vnd.google.colaboratory.intrinsic+json": {
              "type": "string"
            },
            "text/plain": [
              "'Nearly every day'"
            ]
          },
          "metadata": {
            "tags": []
          },
          "execution_count": 347
        }
      ]
    },
    {
      "cell_type": "code",
      "metadata": {
        "id": "g0Vy07A7hkfy",
        "outputId": "b1fc7cca-85c1-409a-e45d-2547575d6961",
        "colab": {
          "base_uri": "https://localhost:8080/",
          "height": 379
        }
      },
      "source": [
        "plt.figure(figsize=(15,5))\n",
        "plt.ylabel('antal personer.', fontsize=20)\n",
        "plt.xlabel(' kontrollera sin oro', fontsize=20)\n",
        "plt.plot(covid['anx_2'].value_counts().sort_index())"
      ],
      "execution_count": 460,
      "outputs": [
        {
          "output_type": "execute_result",
          "data": {
            "text/plain": [
              "[<matplotlib.lines.Line2D at 0x7f23e0d162e8>]"
            ]
          },
          "metadata": {
            "tags": []
          },
          "execution_count": 460
        },
        {
          "output_type": "display_data",
          "data": {
            "image/png": "[encoded data removed]",
            "text/plain": [
              "<Figure size 1080x360 with 1 Axes>"
            ]
          },
          "metadata": {
            "tags": []
          }
        }
      ]
    },
    {
      "cell_type": "markdown",
      "metadata": {
        "id": "aHj8IWTbmYT1"
      },
      "source": [
        "**H4**.Pandemin har lett till ökad alkoholkonsumtion. (drink) \n"
      ]
    },
    {
      "cell_type": "code",
      "metadata": {
        "id": "R9oExf8FNoTL",
        "outputId": "ec3701ce-7fed-414e-df9e-4550529f6c19",
        "colab": {
          "base_uri": "https://localhost:8080/",
          "height": 153
        }
      },
      "source": [
        "covid['drink'].value_counts()\n"
      ],
      "execution_count": 351,
      "outputs": [
        {
          "output_type": "execute_result",
          "data": {
            "text/plain": [
              "Not applicable    2622\n",
              "Not changed       1517\n",
              "Little more        561\n",
              "Much less          402\n",
              "Little less        231\n",
              "Much more          153\n",
              "Name: drink, dtype: int64"
            ]
          },
          "metadata": {
            "tags": []
          },
          "execution_count": 351
        }
      ]
    },
    {
      "cell_type": "markdown",
      "metadata": {
        "id": "Azfmc2ysmdgG"
      },
      "source": [
        "**H5.** Större andel av de som börjat jobba hemifrån sover mer nu än den andel som sover mindre. (sleep, behav_3) \n"
      ]
    },
    {
      "cell_type": "code",
      "metadata": {
        "id": "pSTgjj59hWEe",
        "outputId": "d5e73843-8553-4cca-9c2e-e6fd252afe6c",
        "colab": {
          "base_uri": "https://localhost:8080/",
          "height": 379
        }
      },
      "source": [
        "plt.figure(figsize=(15,5))\n",
        "plt.ylabel(' Occurrences', fontsize=20)\n",
        "plt.xlabel(' drink more', fontsize=20)\n",
        "plt.plot(covid['drink'].value_counts().sort_index())"
      ],
      "execution_count": 472,
      "outputs": [
        {
          "output_type": "execute_result",
          "data": {
            "text/plain": [
              "[<matplotlib.lines.Line2D at 0x7f23e02be470>]"
            ]
          },
          "metadata": {
            "tags": []
          },
          "execution_count": 472
        },
        {
          "output_type": "display_data",
          "data": {
            "image/png": "[encoded data removed]",
            "text/plain": [
              "<Figure size 1080x360 with 1 Axes>"
            ]
          },
          "metadata": {
            "tags": []
          }
        }
      ]
    },
    {
      "cell_type": "code",
      "metadata": {
        "id": "Beawr2p4OKDK"
      },
      "source": [
        "more_sleep = []\n",
        "non_sleep = []\n",
        "for i in range(len(covid)):\n",
        " if covid['sleep'][i] is not '0':\n",
        "   more_sleep.append(covid['behav_3'][i])\n",
        " elif covid['sleep'][i] is '0':\n",
        "   non_sleep.append(covid['behav_3'][i])\n",
        "i +=1"
      ],
      "execution_count": 352,
      "outputs": []
    },
    {
      "cell_type": "code",
      "metadata": {
        "id": "_M2YJidSOlDZ"
      },
      "source": [
        "from pandas import DataFrame\n",
        "m_sleep = DataFrame(more_sleep,columns=[0])\n",
        "no_sleep = DataFrame(non_sleep,columns=[0])"
      ],
      "execution_count": 353,
      "outputs": []
    },
    {
      "cell_type": "code",
      "metadata": {
        "id": "pa6RBhZeOrik",
        "outputId": "e4a4adda-942b-499d-c07f-4007e1d139aa",
        "colab": {
          "base_uri": "https://localhost:8080/",
          "height": 85
        }
      },
      "source": [
        "m_sleep.value_counts()"
      ],
      "execution_count": 440,
      "outputs": [
        {
          "output_type": "execute_result",
          "data": {
            "text/plain": [
              "True     3471\n",
              "False    2015\n",
              "dtype: int64"
            ]
          },
          "metadata": {
            "tags": []
          },
          "execution_count": 440
        }
      ]
    },
    {
      "cell_type": "code",
      "metadata": {
        "id": "BXfbzuE3OsNU",
        "outputId": "963086a9-1263-4b0c-95df-8ba8f539a9ad",
        "colab": {
          "base_uri": "https://localhost:8080/",
          "height": 51
        }
      },
      "source": [
        "no_sleep.value_counts()"
      ],
      "execution_count": 439,
      "outputs": [
        {
          "output_type": "execute_result",
          "data": {
            "text/plain": [
              "Series([], dtype: int64)"
            ]
          },
          "metadata": {
            "tags": []
          },
          "execution_count": 439
        }
      ]
    },
    {
      "cell_type": "code",
      "metadata": {
        "id": "utromB3khEph",
        "outputId": "8d663599-1f3d-4278-9970-696ff3fed752",
        "colab": {
          "base_uri": "https://localhost:8080/",
          "height": 379
        }
      },
      "source": [
        "plt.figure(figsize=(15,5))\n",
        "plt.ylabel('Number of Occurrences', fontsize=20)\n",
        "plt.xlabel('sleep more', fontsize=20)\n",
        "plt.plot(covid['sleep'].value_counts().sort_index())"
      ],
      "execution_count": 464,
      "outputs": [
        {
          "output_type": "execute_result",
          "data": {
            "text/plain": [
              "[<matplotlib.lines.Line2D at 0x7f23e05f2908>]"
            ]
          },
          "metadata": {
            "tags": []
          },
          "execution_count": 464
        },
        {
          "output_type": "display_data",
          "data": {
            "image/png": "[encoded data removed]",
            "text/plain": [
              "<Figure size 1080x360 with 1 Axes>"
            ]
          },
          "metadata": {
            "tags": []
          }
        }
      ]
    },
    {
      "cell_type": "markdown",
      "metadata": {
        "id": "ty8pANt5mqMK"
      },
      "source": [
        "**H6**. Formulera en egen hypotes som du/ni anser är intressant och undersök sedan denna. "
      ]
    },
    {
      "cell_type": "markdown",
      "metadata": {
        "id": "TmUYXKtXYq9-"
      },
      "source": [
        "In the last week, how often have you searched for information about Coronavirus?"
      ]
    },
    {
      "cell_type": "code",
      "metadata": {
        "id": "TNY6QFGGbQMc",
        "outputId": "337b7869-2462-4701-f28e-bda2c914fb7a",
        "colab": {
          "base_uri": "https://localhost:8080/",
          "height": 379
        }
      },
      "source": [
        "plt.figure(figsize=(15,5))\n",
        "plt.ylabel('Number of Occurrences', fontsize=20)\n",
        "plt.xlabel('searched for information about Coronavirus', fontsize=20)\n",
        "plt.plot(covid['search'].value_counts().sort_index())"
      ],
      "execution_count": 438,
      "outputs": [
        {
          "output_type": "execute_result",
          "data": {
            "text/plain": [
              "[<matplotlib.lines.Line2D at 0x7f23e08b77b8>]"
            ]
          },
          "metadata": {
            "tags": []
          },
          "execution_count": 438
        },
        {
          "output_type": "display_data",
          "data": {
            "image/png": "[encoded data removed]",
            "text/plain": [
              "<Figure size 1080x360 with 1 Axes>"
            ]
          },
          "metadata": {
            "tags": []
          }
        }
      ]
    },
    {
      "cell_type": "markdown",
      "metadata": {
        "id": "WQBD7d5Dmuwn"
      },
      "source": [
        "**Del 3 – **\n",
        "Undersökningens kvalitet\n",
        "Undersök och reflektera kortfattat över undersökningens kvalitet.\n",
        "o** Bortfall **\n",
        "o **Urval (hur representativt är urvalet)** \n",
        "o **Typ av data **\n",
        "o **Datakvalitet **\n",
        "o **Validitet **\n",
        "o **Reliabilitet** \n",
        "o **Generaliserbarhet **\n",
        "o** Replikerbarhet **\n",
        "\n",
        "Källa: OPENICPSR (2020). Knowledge, attitudes and practices related to COVID-19 in the U.S. https://www.openicpsr.org/openicpsr/project/120308/version/V1/view\n"
      ]
    },
    {
      "cell_type": "markdown",
      "metadata": {
        "id": "poUl5re3mhk8"
      },
      "source": [
        ""
      ]
    }
  ]
}