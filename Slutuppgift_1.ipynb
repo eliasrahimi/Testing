{
  "nbformat": 4,
  "nbformat_minor": 0,
  "metadata": {
    "kernelspec": {
      "display_name": "Python 3",
      "language": "python",
      "name": "python3"
    },
    "language_info": {
      "codemirror_mode": {
        "name": "ipython",
        "version": 3
      },
      "file_extension": ".py",
      "mimetype": "text/x-python",
      "name": "python",
      "nbconvert_exporter": "python",
      "pygments_lexer": "ipython3",
      "version": "3.7.4"
    },
    "colab": {
      "name": "Slutuppgift-1.ipynb",
      "provenance": [],
      "collapsed_sections": [
        "EVKlg9Wl7hni",
        "YxjwoDRV7hnj"
      ],
      "include_colab_link": true
    }
  },
  "cells": [
    {
      "cell_type": "markdown",
      "metadata": {
        "id": "view-in-github",
        "colab_type": "text"
      },
      "source": [
        "<a href=\"https://colab.research.google.com/github/eliasrahimi/Testing/blob/master/Slutuppgift_1.ipynb\" target=\"_parent\"><img src=\"https://colab.research.google.com/assets/colab-badge.svg\" alt=\"Open In Colab\"/></a>"
      ]
    },
    {
      "cell_type": "markdown",
      "metadata": {
        "id": "wCOK8n6B7hnh"
      },
      "source": [
        "# Inlämning Data Analytics slutuppgift 1: Utforska, analysera och prediktera på trafikdata"
      ]
    },
    {
      "cell_type": "markdown",
      "metadata": {
        "id": "EVKlg9Wl7hni"
      },
      "source": [
        "## Bakgrund\n",
        "\n",
        "Du har fått jobb som data analytiker på ett startup bolag som vill börja sälja en tjänst till smarta städer. Affärsidén går ut på att förenkla polisens arbete genom att förutspå trafikhändelser. \n",
        "\n",
        "Som första steg i ditt arbete har du lokaliserat ett dataset med historik om incidenter i trafiken. Med detta dataset avser du testköra ett antal maskininlärningsmodeller för att utöka din kunskap om domänen och hitta lämpliga modeller som företaget kan använda. \n",
        "\n",
        "Datasetet finns också på det githubrepositorie som skapats för er för slutuppgift 1.\n",
        "\n",
        "Det är valfritt om ni vill använda hela eller delar (sample) av detta dataset, **alla val ni gör behöver dock explicit beskrivas och motiveras**. Det kan vara klokt att enbart arbeta med ett sample eftersom detta dataset innehåller flera miljoner rader.\n",
        "\n",
        "För ytterligare instruktioner, se presentationen av slutuppgift 1&2 som finns på Studium."
      ]
    },
    {
      "cell_type": "markdown",
      "metadata": {
        "id": "iRMPlV5i7hnj"
      },
      "source": [
        "## Problembeskrivning\n",
        "\n",
        "Du ska använda ditt dataset för att identifiera ett antal (minst 2) lämpliga frågor som är möjliga att genomföra på den data du har tillgång till.\n",
        "\n",
        "De två frågorna ska vara av olika karaktär, exempelvis en prediktiv fråga som är av regressionskaraktär och en annan som är av klassificeringskaraktär, eller en klassificeringsfråga och en assoiationsanalysfråga, eller en regression och en klusterfråga. **Minst en fråga ska vara prediktiv, alltså övervakad inlärning (klassificering/regression)** \n",
        "\n",
        "Du ska testa minst 2 modeller för varje fråga, vilket innebär att du behöver testa minst 4 modeller totalt. \n",
        "\n",
        "Du vill använda ditt dataset för att identifiera vilken data som behövs för att kunna utveckla tjänsten samt för att utvärdera vilken kvalitet som krävs och hur pre-processing bör genomföras. I ditt arbete vill du också identidiera potentiella problem med dataset och analyser utifrån etiska aspekter. Denna kunskap ska sedan teoretiseras i uppgift 2.\n",
        "\n",
        "Använd kunskaper du inhämtat tidigare under kursen, det är helt ok att använda kod från exempelvis tidigare laborationer och övningar som finns på kursens GitHub, eller hitta lämpliga algoritmexempel från nätet. "
      ]
    },
    {
      "cell_type": "code",
      "metadata": {
        "id": "L-PC_XRY82wF"
      },
      "source": [
        "#Hur ser allvarlighetsgraden ut i förhållande till andra faktorer?"
      ],
      "execution_count": null,
      "outputs": []
    },
    {
      "cell_type": "code",
      "metadata": {
        "id": "oN7HZ6xoGa1u"
      },
      "source": [
        "#Sker flest olyckor vid trafikljus?"
      ],
      "execution_count": null,
      "outputs": []
    },
    {
      "cell_type": "markdown",
      "metadata": {
        "id": "YxjwoDRV7hnj"
      },
      "source": [
        "## Rättning\n",
        "\n",
        "Uppgiften ger totalt 100 poäng, för godkänt behöver du minst 80 poäng. Hur många poäng varje deluppgift ger syns i varje del. "
      ]
    },
    {
      "cell_type": "markdown",
      "metadata": {
        "id": "3XC013ff7hnn"
      },
      "source": [
        "## Data collection\n",
        "\n",
        "Ladda in ditt dataset (10 poäng)."
      ]
    },
    {
      "cell_type": "code",
      "metadata": {
        "id": "1hDx2y8ezjiP"
      },
      "source": [
        "# Import numpy, pandas, matpltlib.pyplot, sklearn moduler & seaborn\n",
        "import numpy as np\n",
        "import pandas as pd\n",
        "import matplotlib.pyplot as plt\n",
        "import seaborn as sns\n",
        "%matplotlib inline\n",
        "pd.set_option('display.max_rows', 300)\n",
        "pd.set_option('display.max_columns', 300)\n",
        "plt.style.use('ggplot')\n",
        "\n",
        "# Importerar KNeighborsClassifier för vår k-NN modell\n",
        "from sklearn.neighbors import KNeighborsClassifier\n",
        "\n",
        "# Importerar DecisionTreeClassifier för Decision tree modellen\n",
        "from sklearn.tree import DecisionTreeClassifier\n",
        "\n",
        "# Importerar RandomForestClassifier för Random forest modell\n",
        "from sklearn.ensemble import RandomForestClassifier\n",
        "\n",
        "# Importerar LogisticRegression\n",
        "from sklearn.linear_model import LogisticRegression\n",
        "\n",
        "from sklearn.model_selection import train_test_split\n",
        "from sklearn.model_selection import GridSearchCV\n",
        "from sklearn.feature_selection import SelectFromModel\n",
        "from sklearn.metrics import classification_report\n",
        "from sklearn.metrics import confusion_matrix\n",
        "from sklearn.metrics import accuracy_score\n",
        "from sklearn.metrics import roc_curve, auc"
      ],
      "execution_count": 2,
      "outputs": []
    },
    {
      "cell_type": "code",
      "metadata": {
        "id": "5LBP2g5N5kz5",
        "outputId": "4c00cb29-fae7-4a77-c0f0-5eecc9d854f0",
        "colab": {
          "base_uri": "https://localhost:8080/"
        }
      },
      "source": [
        "#Vi begränsar till de första 500 000 raderna i csv:n\n",
        "df = pd.read_csv('US_Accidents_June20.csv', nrows=500000)"
      ],
      "execution_count": 3,
      "outputs": [
        {
          "output_type": "stream",
          "text": [
            "/usr/local/lib/python3.6/dist-packages/IPython/core/interactiveshell.py:2718: DtypeWarning: Columns (33,34,35,36,37,38,39,40,41,42,43,44) have mixed types.Specify dtype option on import or set low_memory=False.\n",
            "  interactivity=interactivity, compiler=compiler, result=result)\n"
          ],
          "name": "stderr"
        }
      ]
    },
    {
      "cell_type": "code",
      "metadata": {
        "id": "0yXtrHnCKbNT",
        "outputId": "2f301b1d-941f-446e-a108-750caddc71ca",
        "colab": {
          "base_uri": "https://localhost:8080/"
        }
      },
      "source": [
        "df.info()"
      ],
      "execution_count": null,
      "outputs": [
        {
          "output_type": "stream",
          "text": [
            "<class 'pandas.core.frame.DataFrame'>\n",
            "RangeIndex: 153650 entries, 0 to 153649\n",
            "Data columns (total 49 columns):\n",
            " #   Column                 Non-Null Count   Dtype  \n",
            "---  ------                 --------------   -----  \n",
            " 0   ID                     153650 non-null  object \n",
            " 1   Source                 153650 non-null  object \n",
            " 2   TMC                    153650 non-null  float64\n",
            " 3   Severity               153650 non-null  int64  \n",
            " 4   Start_Time             153650 non-null  object \n",
            " 5   End_Time               153650 non-null  object \n",
            " 6   Start_Lat              153650 non-null  float64\n",
            " 7   Start_Lng              153650 non-null  float64\n",
            " 8   End_Lat                0 non-null       float64\n",
            " 9   End_Lng                0 non-null       float64\n",
            " 10  Distance(mi)           153650 non-null  float64\n",
            " 11  Description            153650 non-null  object \n",
            " 12  Number                 39646 non-null   float64\n",
            " 13  Street                 153650 non-null  object \n",
            " 14  Side                   153650 non-null  object \n",
            " 15  City                   153636 non-null  object \n",
            " 16  County                 153650 non-null  object \n",
            " 17  State                  153650 non-null  object \n",
            " 18  Zipcode                153620 non-null  object \n",
            " 19  Country                153650 non-null  object \n",
            " 20  Timezone               153620 non-null  object \n",
            " 21  Airport_Code           153620 non-null  object \n",
            " 22  Weather_Timestamp      152178 non-null  object \n",
            " 23  Temperature(F)         151166 non-null  float64\n",
            " 24  Wind_Chill(F)          6250 non-null    float64\n",
            " 25  Humidity(%)            150780 non-null  float64\n",
            " 26  Pressure(in)           151728 non-null  float64\n",
            " 27  Visibility(mi)         151047 non-null  float64\n",
            " 28  Wind_Direction         152164 non-null  object \n",
            " 29  Wind_Speed(mph)        120473 non-null  float64\n",
            " 30  Precipitation(in)      11780 non-null   float64\n",
            " 31  Weather_Condition      151305 non-null  object \n",
            " 32  Amenity                153649 non-null  object \n",
            " 33  Bump                   153649 non-null  object \n",
            " 34  Crossing               153649 non-null  object \n",
            " 35  Give_Way               153649 non-null  object \n",
            " 36  Junction               153649 non-null  object \n",
            " 37  No_Exit                153649 non-null  object \n",
            " 38  Railway                153649 non-null  object \n",
            " 39  Roundabout             153649 non-null  object \n",
            " 40  Station                153649 non-null  object \n",
            " 41  Stop                   153649 non-null  object \n",
            " 42  Traffic_Calming        153649 non-null  object \n",
            " 43  Traffic_Signal         153649 non-null  object \n",
            " 44  Turning_Loop           153649 non-null  object \n",
            " 45  Sunrise_Sunset         153635 non-null  object \n",
            " 46  Civil_Twilight         153635 non-null  object \n",
            " 47  Nautical_Twilight      153635 non-null  object \n",
            " 48  Astronomical_Twilight  153635 non-null  object \n",
            "dtypes: float64(14), int64(1), object(34)\n",
            "memory usage: 57.4+ MB\n"
          ],
          "name": "stdout"
        }
      ]
    },
    {
      "cell_type": "code",
      "metadata": {
        "id": "oaA7PyRr1gu4",
        "outputId": "94f30d9b-0c25-477d-e87c-76451bf7be35",
        "colab": {
          "base_uri": "https://localhost:8080/"
        }
      },
      "source": [
        "df.shape"
      ],
      "execution_count": null,
      "outputs": [
        {
          "output_type": "execute_result",
          "data": {
            "text/plain": [
              "(500000, 49)"
            ]
          },
          "metadata": {
            "tags": []
          },
          "execution_count": 331
        }
      ]
    },
    {
      "cell_type": "code",
      "metadata": {
        "id": "RilMe3ib6Ze_",
        "outputId": "8f55d2e9-c7f4-49f4-97d2-da1fe6a2e7d4",
        "colab": {
          "base_uri": "https://localhost:8080/"
        }
      },
      "source": [
        "df['State'].value_counts()"
      ],
      "execution_count": null,
      "outputs": [
        {
          "output_type": "execute_result",
          "data": {
            "text/plain": [
              "CA    175172\n",
              "TX     77490\n",
              "FL     49481\n",
              "PA     30960\n",
              "MI     25110\n",
              "NY     25067\n",
              "GA     18639\n",
              "IL     17119\n",
              "OH     11511\n",
              "WA     11408\n",
              "MD     10298\n",
              "NJ      8573\n",
              "NE      8307\n",
              "MA      8042\n",
              "VA      7837\n",
              "CT      4135\n",
              "SC      4124\n",
              "IA      2160\n",
              "MO      1911\n",
              "RI      1567\n",
              "DC       591\n",
              "NH       152\n",
              "DE       115\n",
              "WI        69\n",
              "OR        63\n",
              "WV        45\n",
              "IN        44\n",
              "KY         6\n",
              "AL         4\n",
              "Name: State, dtype: int64"
            ]
          },
          "metadata": {
            "tags": []
          },
          "execution_count": 332
        }
      ]
    },
    {
      "cell_type": "code",
      "metadata": {
        "id": "x_lIzBhA6Sar",
        "outputId": "07034c7f-c526-42e9-e5df-096c27e2e7e8",
        "colab": {
          "base_uri": "https://localhost:8080/",
          "height": 250
        }
      },
      "source": [
        "df.head(2)"
      ],
      "execution_count": 4,
      "outputs": [
        {
          "output_type": "execute_result",
          "data": {
            "text/html": [
              "<div>\n",
              "<style scoped>\n",
              "    .dataframe tbody tr th:only-of-type {\n",
              "        vertical-align: middle;\n",
              "    }\n",
              "\n",
              "    .dataframe tbody tr th {\n",
              "        vertical-align: top;\n",
              "    }\n",
              "\n",
              "    .dataframe thead th {\n",
              "        text-align: right;\n",
              "    }\n",
              "</style>\n",
              "<table border=\"1\" class=\"dataframe\">\n",
              "  <thead>\n",
              "    <tr style=\"text-align: right;\">\n",
              "      <th></th>\n",
              "      <th>ID</th>\n",
              "      <th>Source</th>\n",
              "      <th>TMC</th>\n",
              "      <th>Severity</th>\n",
              "      <th>Start_Time</th>\n",
              "      <th>End_Time</th>\n",
              "      <th>Start_Lat</th>\n",
              "      <th>Start_Lng</th>\n",
              "      <th>End_Lat</th>\n",
              "      <th>End_Lng</th>\n",
              "      <th>Distance(mi)</th>\n",
              "      <th>Description</th>\n",
              "      <th>Number</th>\n",
              "      <th>Street</th>\n",
              "      <th>Side</th>\n",
              "      <th>City</th>\n",
              "      <th>County</th>\n",
              "      <th>State</th>\n",
              "      <th>Zipcode</th>\n",
              "      <th>Country</th>\n",
              "      <th>Timezone</th>\n",
              "      <th>Airport_Code</th>\n",
              "      <th>Weather_Timestamp</th>\n",
              "      <th>Temperature(F)</th>\n",
              "      <th>Wind_Chill(F)</th>\n",
              "      <th>Humidity(%)</th>\n",
              "      <th>Pressure(in)</th>\n",
              "      <th>Visibility(mi)</th>\n",
              "      <th>Wind_Direction</th>\n",
              "      <th>Wind_Speed(mph)</th>\n",
              "      <th>Precipitation(in)</th>\n",
              "      <th>Weather_Condition</th>\n",
              "      <th>Amenity</th>\n",
              "      <th>Bump</th>\n",
              "      <th>Crossing</th>\n",
              "      <th>Give_Way</th>\n",
              "      <th>Junction</th>\n",
              "      <th>No_Exit</th>\n",
              "      <th>Railway</th>\n",
              "      <th>Roundabout</th>\n",
              "      <th>Station</th>\n",
              "      <th>Stop</th>\n",
              "      <th>Traffic_Calming</th>\n",
              "      <th>Traffic_Signal</th>\n",
              "      <th>Turning_Loop</th>\n",
              "      <th>Sunrise_Sunset</th>\n",
              "      <th>Civil_Twilight</th>\n",
              "      <th>Nautical_Twilight</th>\n",
              "      <th>Astronomical_Twilight</th>\n",
              "    </tr>\n",
              "  </thead>\n",
              "  <tbody>\n",
              "    <tr>\n",
              "      <th>0</th>\n",
              "      <td>A-1</td>\n",
              "      <td>MapQuest</td>\n",
              "      <td>201.0</td>\n",
              "      <td>3</td>\n",
              "      <td>2016-02-08 05:46:00</td>\n",
              "      <td>2016-02-08 11:00:00</td>\n",
              "      <td>39.865147</td>\n",
              "      <td>-84.058723</td>\n",
              "      <td>NaN</td>\n",
              "      <td>NaN</td>\n",
              "      <td>0.01</td>\n",
              "      <td>Right lane blocked due to accident on I-70 Eas...</td>\n",
              "      <td>NaN</td>\n",
              "      <td>I-70 E</td>\n",
              "      <td>R</td>\n",
              "      <td>Dayton</td>\n",
              "      <td>Montgomery</td>\n",
              "      <td>OH</td>\n",
              "      <td>45424</td>\n",
              "      <td>US</td>\n",
              "      <td>US/Eastern</td>\n",
              "      <td>KFFO</td>\n",
              "      <td>2016-02-08 05:58:00</td>\n",
              "      <td>36.9</td>\n",
              "      <td>NaN</td>\n",
              "      <td>91.0</td>\n",
              "      <td>29.68</td>\n",
              "      <td>10.0</td>\n",
              "      <td>Calm</td>\n",
              "      <td>NaN</td>\n",
              "      <td>0.02</td>\n",
              "      <td>Light Rain</td>\n",
              "      <td>False</td>\n",
              "      <td>False</td>\n",
              "      <td>False</td>\n",
              "      <td>False</td>\n",
              "      <td>False</td>\n",
              "      <td>False</td>\n",
              "      <td>False</td>\n",
              "      <td>False</td>\n",
              "      <td>False</td>\n",
              "      <td>False</td>\n",
              "      <td>False</td>\n",
              "      <td>False</td>\n",
              "      <td>False</td>\n",
              "      <td>Night</td>\n",
              "      <td>Night</td>\n",
              "      <td>Night</td>\n",
              "      <td>Night</td>\n",
              "    </tr>\n",
              "    <tr>\n",
              "      <th>1</th>\n",
              "      <td>A-2</td>\n",
              "      <td>MapQuest</td>\n",
              "      <td>201.0</td>\n",
              "      <td>2</td>\n",
              "      <td>2016-02-08 06:07:59</td>\n",
              "      <td>2016-02-08 06:37:59</td>\n",
              "      <td>39.928059</td>\n",
              "      <td>-82.831184</td>\n",
              "      <td>NaN</td>\n",
              "      <td>NaN</td>\n",
              "      <td>0.01</td>\n",
              "      <td>Accident on Brice Rd at Tussing Rd. Expect del...</td>\n",
              "      <td>2584.0</td>\n",
              "      <td>Brice Rd</td>\n",
              "      <td>L</td>\n",
              "      <td>Reynoldsburg</td>\n",
              "      <td>Franklin</td>\n",
              "      <td>OH</td>\n",
              "      <td>43068-3402</td>\n",
              "      <td>US</td>\n",
              "      <td>US/Eastern</td>\n",
              "      <td>KCMH</td>\n",
              "      <td>2016-02-08 05:51:00</td>\n",
              "      <td>37.9</td>\n",
              "      <td>NaN</td>\n",
              "      <td>100.0</td>\n",
              "      <td>29.65</td>\n",
              "      <td>10.0</td>\n",
              "      <td>Calm</td>\n",
              "      <td>NaN</td>\n",
              "      <td>0.00</td>\n",
              "      <td>Light Rain</td>\n",
              "      <td>False</td>\n",
              "      <td>False</td>\n",
              "      <td>False</td>\n",
              "      <td>False</td>\n",
              "      <td>False</td>\n",
              "      <td>False</td>\n",
              "      <td>False</td>\n",
              "      <td>False</td>\n",
              "      <td>False</td>\n",
              "      <td>False</td>\n",
              "      <td>False</td>\n",
              "      <td>False</td>\n",
              "      <td>False</td>\n",
              "      <td>Night</td>\n",
              "      <td>Night</td>\n",
              "      <td>Night</td>\n",
              "      <td>Day</td>\n",
              "    </tr>\n",
              "  </tbody>\n",
              "</table>\n",
              "</div>"
            ],
            "text/plain": [
              "    ID    Source    TMC  Severity           Start_Time             End_Time  \\\n",
              "0  A-1  MapQuest  201.0         3  2016-02-08 05:46:00  2016-02-08 11:00:00   \n",
              "1  A-2  MapQuest  201.0         2  2016-02-08 06:07:59  2016-02-08 06:37:59   \n",
              "\n",
              "   Start_Lat  Start_Lng  End_Lat  End_Lng  Distance(mi)  \\\n",
              "0  39.865147 -84.058723      NaN      NaN          0.01   \n",
              "1  39.928059 -82.831184      NaN      NaN          0.01   \n",
              "\n",
              "                                         Description  Number    Street Side  \\\n",
              "0  Right lane blocked due to accident on I-70 Eas...     NaN    I-70 E    R   \n",
              "1  Accident on Brice Rd at Tussing Rd. Expect del...  2584.0  Brice Rd    L   \n",
              "\n",
              "           City      County State     Zipcode Country    Timezone  \\\n",
              "0        Dayton  Montgomery    OH       45424      US  US/Eastern   \n",
              "1  Reynoldsburg    Franklin    OH  43068-3402      US  US/Eastern   \n",
              "\n",
              "  Airport_Code    Weather_Timestamp  Temperature(F)  Wind_Chill(F)  \\\n",
              "0         KFFO  2016-02-08 05:58:00            36.9            NaN   \n",
              "1         KCMH  2016-02-08 05:51:00            37.9            NaN   \n",
              "\n",
              "   Humidity(%)  Pressure(in)  Visibility(mi) Wind_Direction  Wind_Speed(mph)  \\\n",
              "0         91.0         29.68            10.0           Calm              NaN   \n",
              "1        100.0         29.65            10.0           Calm              NaN   \n",
              "\n",
              "   Precipitation(in) Weather_Condition  Amenity   Bump Crossing Give_Way  \\\n",
              "0               0.02        Light Rain    False  False    False    False   \n",
              "1               0.00        Light Rain    False  False    False    False   \n",
              "\n",
              "  Junction No_Exit Railway Roundabout Station   Stop Traffic_Calming  \\\n",
              "0    False   False   False      False   False  False           False   \n",
              "1    False   False   False      False   False  False           False   \n",
              "\n",
              "  Traffic_Signal Turning_Loop Sunrise_Sunset Civil_Twilight Nautical_Twilight  \\\n",
              "0          False        False          Night          Night             Night   \n",
              "1          False        False          Night          Night             Night   \n",
              "\n",
              "  Astronomical_Twilight  \n",
              "0                 Night  \n",
              "1                   Day  "
            ]
          },
          "metadata": {
            "tags": []
          },
          "execution_count": 4
        }
      ]
    },
    {
      "cell_type": "markdown",
      "metadata": {
        "id": "qijWFBNkYQXs"
      },
      "source": [
        "Vi har valt att importera en större del av datsetet, men för algoritmerna har i uppgiften kommer fokus främst ligger på mindre delar av datasetet t.ex. en delstat. Detta pga av datasetets mängd är svår att hantera och att begränsa datamängden när vi jobbar med modellerna förbättrar även prestandan i colbaratory (förkortar körningstid). Hårdvaran vi befinner oss på drar också nytta av detta."
      ]
    },
    {
      "cell_type": "markdown",
      "metadata": {
        "id": "9WqiCUkbVEjO"
      },
      "source": [
        "För modellerna kommer enbart Texasdata tränas då det inte blir lika tugnt för körning."
      ]
    },
    {
      "cell_type": "code",
      "metadata": {
        "id": "x79xUqG8eeVl",
        "outputId": "5bccf7e8-63e8-4e8e-a8c1-1250df8b62c8",
        "colab": {
          "base_uri": "https://localhost:8080/"
        }
      },
      "source": [
        "df.info()"
      ],
      "execution_count": null,
      "outputs": [
        {
          "output_type": "stream",
          "text": [
            "<class 'pandas.core.frame.DataFrame'>\n",
            "RangeIndex: 500000 entries, 0 to 499999\n",
            "Data columns (total 49 columns):\n",
            " #   Column                 Non-Null Count   Dtype  \n",
            "---  ------                 --------------   -----  \n",
            " 0   ID                     500000 non-null  object \n",
            " 1   Source                 500000 non-null  object \n",
            " 2   TMC                    500000 non-null  float64\n",
            " 3   Severity               500000 non-null  int64  \n",
            " 4   Start_Time             500000 non-null  object \n",
            " 5   End_Time               500000 non-null  object \n",
            " 6   Start_Lat              500000 non-null  float64\n",
            " 7   Start_Lng              500000 non-null  float64\n",
            " 8   End_Lat                0 non-null       float64\n",
            " 9   End_Lng                0 non-null       float64\n",
            " 10  Distance(mi)           500000 non-null  float64\n",
            " 11  Description            500000 non-null  object \n",
            " 12  Number                 176443 non-null  float64\n",
            " 13  Street                 500000 non-null  object \n",
            " 14  Side                   500000 non-null  object \n",
            " 15  City                   499978 non-null  object \n",
            " 16  County                 500000 non-null  object \n",
            " 17  State                  500000 non-null  object \n",
            " 18  Zipcode                499938 non-null  object \n",
            " 19  Country                500000 non-null  object \n",
            " 20  Timezone               499938 non-null  object \n",
            " 21  Airport_Code           499938 non-null  object \n",
            " 22  Weather_Timestamp      495883 non-null  object \n",
            " 23  Temperature(F)         492748 non-null  float64\n",
            " 24  Wind_Chill(F)          62359 non-null   float64\n",
            " 25  Humidity(%)            492083 non-null  float64\n",
            " 26  Pressure(in)           494259 non-null  float64\n",
            " 27  Visibility(mi)         489459 non-null  float64\n",
            " 28  Wind_Direction         495851 non-null  object \n",
            " 29  Wind_Speed(mph)        410958 non-null  float64\n",
            " 30  Precipitation(in)      51948 non-null   float64\n",
            " 31  Weather_Condition      489813 non-null  object \n",
            " 32  Amenity                500000 non-null  bool   \n",
            " 33  Bump                   500000 non-null  bool   \n",
            " 34  Crossing               500000 non-null  bool   \n",
            " 35  Give_Way               500000 non-null  bool   \n",
            " 36  Junction               500000 non-null  bool   \n",
            " 37  No_Exit                500000 non-null  bool   \n",
            " 38  Railway                500000 non-null  bool   \n",
            " 39  Roundabout             500000 non-null  bool   \n",
            " 40  Station                500000 non-null  bool   \n",
            " 41  Stop                   500000 non-null  bool   \n",
            " 42  Traffic_Calming        500000 non-null  bool   \n",
            " 43  Traffic_Signal         500000 non-null  bool   \n",
            " 44  Turning_Loop           500000 non-null  bool   \n",
            " 45  Sunrise_Sunset         499978 non-null  object \n",
            " 46  Civil_Twilight         499978 non-null  object \n",
            " 47  Nautical_Twilight      499978 non-null  object \n",
            " 48  Astronomical_Twilight  499978 non-null  object \n",
            "dtypes: bool(13), float64(14), int64(1), object(21)\n",
            "memory usage: 143.5+ MB\n"
          ],
          "name": "stdout"
        }
      ]
    },
    {
      "cell_type": "code",
      "metadata": {
        "id": "uFtzCNJVe5Jc",
        "outputId": "9526c25c-1fad-4c88-c4d2-a7368f8d2fdd",
        "colab": {
          "base_uri": "https://localhost:8080/"
        }
      },
      "source": [
        "df.columns"
      ],
      "execution_count": null,
      "outputs": [
        {
          "output_type": "execute_result",
          "data": {
            "text/plain": [
              "Index(['ID', 'Source', 'TMC', 'Severity', 'Start_Time', 'End_Time',\n",
              "       'Start_Lat', 'Start_Lng', 'End_Lat', 'End_Lng', 'Distance(mi)',\n",
              "       'Description', 'Number', 'Street', 'Side', 'City', 'County', 'State',\n",
              "       'Zipcode', 'Country', 'Timezone', 'Airport_Code', 'Weather_Timestamp',\n",
              "       'Temperature(F)', 'Wind_Chill(F)', 'Humidity(%)', 'Pressure(in)',\n",
              "       'Visibility(mi)', 'Wind_Direction', 'Wind_Speed(mph)',\n",
              "       'Precipitation(in)', 'Weather_Condition', 'Amenity', 'Bump', 'Crossing',\n",
              "       'Give_Way', 'Junction', 'No_Exit', 'Railway', 'Roundabout', 'Station',\n",
              "       'Stop', 'Traffic_Calming', 'Traffic_Signal', 'Turning_Loop',\n",
              "       'Sunrise_Sunset', 'Civil_Twilight', 'Nautical_Twilight',\n",
              "       'Astronomical_Twilight'],\n",
              "      dtype='object')"
            ]
          },
          "metadata": {
            "tags": []
          },
          "execution_count": 335
        }
      ]
    },
    {
      "cell_type": "markdown",
      "metadata": {
        "id": "avA_rW1Q7hnq"
      },
      "source": [
        "## Data preprocessing\n",
        "\n",
        "Utvärdera kvaliteten på ert data och genomför nödvändig pre-processing för att adressera dessa kvalitetsbrister. Pre-processingen ska vara relevant för den fråga ni ska ställa, det innebär att ni förmodligen behöver olika pre-processing för era två olika frågor. (30 poäng).\n",
        "\n",
        "*Hint: Tänk på om du behöver droppa kolumner som inte är relevanta, duplicerad data, saknad data, tänk också på vilken typ av data ni behöver beroende på vilka modeller ni planerar att använda*"
      ]
    },
    {
      "cell_type": "code",
      "metadata": {
        "id": "YLLt-Pcm7hnq"
      },
      "source": [
        "# Nu Extraherar vi år, månad, dag, timme, för att städa upp tiden så att vi lättare kan hantera och tolka den i kommande moment."
      ],
      "execution_count": null,
      "outputs": []
    },
    {
      "cell_type": "code",
      "metadata": {
        "id": "sU9HV_4Jeqvl",
        "outputId": "ac9b9351-c654-43b5-fc5f-85be39b17a1e",
        "colab": {
          "base_uri": "https://localhost:8080/"
        }
      },
      "source": [
        "# konverterar  Start_Time och End_Time till pandas datetime, vi sätter error till NaN\n",
        "df['Start_Time'] = pd.to_datetime(df['Start_Time'], errors='coerce')\n",
        "df['End_Time'] = pd.to_datetime(df['End_Time'], errors='coerce')\n",
        "\n",
        "# konverterar år, månad, dag, tid\n",
        "df['Year']=df['Start_Time'].dt.year\n",
        "df['Month']=df['Start_Time'].dt.strftime('%b')\n",
        "df['Day']=df['Start_Time'].dt.day\n",
        "df['Hour']=df['Start_Time'].dt.hour\n",
        "df['Weekday']=df['Start_Time'].dt.strftime('%a')\n",
        "\n",
        "# Extrahera tiden i minutsenheten för varje olycka, och avrundar till närmaste heltal.\n",
        "td='Time_Duration(min)'\n",
        "df[td]=round((df['End_Time']-df['Start_Time'])/np.timedelta64(1,'m'))\n",
        "df.info()"
      ],
      "execution_count": null,
      "outputs": [
        {
          "output_type": "stream",
          "text": [
            "<class 'pandas.core.frame.DataFrame'>\n",
            "RangeIndex: 500000 entries, 0 to 499999\n",
            "Data columns (total 55 columns):\n",
            " #   Column                 Non-Null Count   Dtype         \n",
            "---  ------                 --------------   -----         \n",
            " 0   ID                     500000 non-null  object        \n",
            " 1   Source                 500000 non-null  object        \n",
            " 2   TMC                    500000 non-null  float64       \n",
            " 3   Severity               500000 non-null  int64         \n",
            " 4   Start_Time             500000 non-null  datetime64[ns]\n",
            " 5   End_Time               500000 non-null  datetime64[ns]\n",
            " 6   Start_Lat              500000 non-null  float64       \n",
            " 7   Start_Lng              500000 non-null  float64       \n",
            " 8   End_Lat                0 non-null       float64       \n",
            " 9   End_Lng                0 non-null       float64       \n",
            " 10  Distance(mi)           500000 non-null  float64       \n",
            " 11  Description            500000 non-null  object        \n",
            " 12  Number                 176443 non-null  float64       \n",
            " 13  Street                 500000 non-null  object        \n",
            " 14  Side                   500000 non-null  object        \n",
            " 15  City                   499978 non-null  object        \n",
            " 16  County                 500000 non-null  object        \n",
            " 17  State                  500000 non-null  object        \n",
            " 18  Zipcode                499938 non-null  object        \n",
            " 19  Country                500000 non-null  object        \n",
            " 20  Timezone               499938 non-null  object        \n",
            " 21  Airport_Code           499938 non-null  object        \n",
            " 22  Weather_Timestamp      495883 non-null  object        \n",
            " 23  Temperature(F)         492748 non-null  float64       \n",
            " 24  Wind_Chill(F)          62359 non-null   float64       \n",
            " 25  Humidity(%)            492083 non-null  float64       \n",
            " 26  Pressure(in)           494259 non-null  float64       \n",
            " 27  Visibility(mi)         489459 non-null  float64       \n",
            " 28  Wind_Direction         495851 non-null  object        \n",
            " 29  Wind_Speed(mph)        410958 non-null  float64       \n",
            " 30  Precipitation(in)      51948 non-null   float64       \n",
            " 31  Weather_Condition      489813 non-null  object        \n",
            " 32  Amenity                500000 non-null  bool          \n",
            " 33  Bump                   500000 non-null  bool          \n",
            " 34  Crossing               500000 non-null  bool          \n",
            " 35  Give_Way               500000 non-null  bool          \n",
            " 36  Junction               500000 non-null  bool          \n",
            " 37  No_Exit                500000 non-null  bool          \n",
            " 38  Railway                500000 non-null  bool          \n",
            " 39  Roundabout             500000 non-null  bool          \n",
            " 40  Station                500000 non-null  bool          \n",
            " 41  Stop                   500000 non-null  bool          \n",
            " 42  Traffic_Calming        500000 non-null  bool          \n",
            " 43  Traffic_Signal         500000 non-null  bool          \n",
            " 44  Turning_Loop           500000 non-null  bool          \n",
            " 45  Sunrise_Sunset         499978 non-null  object        \n",
            " 46  Civil_Twilight         499978 non-null  object        \n",
            " 47  Nautical_Twilight      499978 non-null  object        \n",
            " 48  Astronomical_Twilight  499978 non-null  object        \n",
            " 49  Year                   500000 non-null  int64         \n",
            " 50  Month                  500000 non-null  object        \n",
            " 51  Day                    500000 non-null  int64         \n",
            " 52  Hour                   500000 non-null  int64         \n",
            " 53  Weekday                500000 non-null  object        \n",
            " 54  Time_Duration(min)     500000 non-null  float64       \n",
            "dtypes: bool(13), datetime64[ns](2), float64(15), int64(4), object(21)\n",
            "memory usage: 166.4+ MB\n"
          ],
          "name": "stdout"
        }
      ]
    },
    {
      "cell_type": "code",
      "metadata": {
        "id": "Us-jP8pDe0Nh",
        "outputId": "55200e8e-62c3-4aa1-b302-8b51be235cfe",
        "colab": {
          "base_uri": "https://localhost:8080/"
        }
      },
      "source": [
        "#Hanterar outliers, visar rader med negativt värde för td\n",
        "df[td][df[td]<=0]"
      ],
      "execution_count": null,
      "outputs": [
        {
          "output_type": "execute_result",
          "data": {
            "text/plain": [
              "69719     -0.0\n",
              "69720     -0.0\n",
              "69721     -0.0\n",
              "69722     -1.0\n",
              "69723     -1.0\n",
              "309387   -30.0\n",
              "309388   -30.0\n",
              "Name: Time_Duration(min), dtype: float64"
            ]
          },
          "metadata": {
            "tags": []
          },
          "execution_count": 337
        }
      ]
    },
    {
      "cell_type": "code",
      "metadata": {
        "id": "ipAc1yMXmRPr",
        "outputId": "76dc18ab-8a50-45cb-bfeb-0384faebb270",
        "colab": {
          "base_uri": "https://localhost:8080/"
        }
      },
      "source": [
        "#skirver till neg_outliers värden som är lika eller under 0\n",
        "neg_outliers=df[td]<=0\n",
        "#sätter outliers till NaN\n",
        "df[neg_outliers] = np.nan\n",
        "#raderar rader som innehåller negativvärde\n",
        "df.dropna(subset=[td],axis=0,inplace=True)\n",
        "df.info()"
      ],
      "execution_count": null,
      "outputs": [
        {
          "output_type": "stream",
          "text": [
            "<class 'pandas.core.frame.DataFrame'>\n",
            "Int64Index: 499993 entries, 0 to 499999\n",
            "Data columns (total 55 columns):\n",
            " #   Column                 Non-Null Count   Dtype         \n",
            "---  ------                 --------------   -----         \n",
            " 0   ID                     499993 non-null  object        \n",
            " 1   Source                 499993 non-null  object        \n",
            " 2   TMC                    499993 non-null  float64       \n",
            " 3   Severity               499993 non-null  float64       \n",
            " 4   Start_Time             499993 non-null  datetime64[ns]\n",
            " 5   End_Time               499993 non-null  datetime64[ns]\n",
            " 6   Start_Lat              499993 non-null  float64       \n",
            " 7   Start_Lng              499993 non-null  float64       \n",
            " 8   End_Lat                0 non-null       float64       \n",
            " 9   End_Lng                0 non-null       float64       \n",
            " 10  Distance(mi)           499993 non-null  float64       \n",
            " 11  Description            499993 non-null  object        \n",
            " 12  Number                 176440 non-null  float64       \n",
            " 13  Street                 499993 non-null  object        \n",
            " 14  Side                   499993 non-null  object        \n",
            " 15  City                   499971 non-null  object        \n",
            " 16  County                 499993 non-null  object        \n",
            " 17  State                  499993 non-null  object        \n",
            " 18  Zipcode                499931 non-null  object        \n",
            " 19  Country                499993 non-null  object        \n",
            " 20  Timezone               499931 non-null  object        \n",
            " 21  Airport_Code           499931 non-null  object        \n",
            " 22  Weather_Timestamp      495876 non-null  object        \n",
            " 23  Temperature(F)         492741 non-null  float64       \n",
            " 24  Wind_Chill(F)          62359 non-null   float64       \n",
            " 25  Humidity(%)            492076 non-null  float64       \n",
            " 26  Pressure(in)           494252 non-null  float64       \n",
            " 27  Visibility(mi)         489452 non-null  float64       \n",
            " 28  Wind_Direction         495844 non-null  object        \n",
            " 29  Wind_Speed(mph)        410954 non-null  float64       \n",
            " 30  Precipitation(in)      51946 non-null   float64       \n",
            " 31  Weather_Condition      489806 non-null  object        \n",
            " 32  Amenity                499993 non-null  float64       \n",
            " 33  Bump                   499993 non-null  float64       \n",
            " 34  Crossing               499993 non-null  float64       \n",
            " 35  Give_Way               499993 non-null  float64       \n",
            " 36  Junction               499993 non-null  float64       \n",
            " 37  No_Exit                499993 non-null  float64       \n",
            " 38  Railway                499993 non-null  float64       \n",
            " 39  Roundabout             499993 non-null  float64       \n",
            " 40  Station                499993 non-null  float64       \n",
            " 41  Stop                   499993 non-null  float64       \n",
            " 42  Traffic_Calming        499993 non-null  float64       \n",
            " 43  Traffic_Signal         499993 non-null  float64       \n",
            " 44  Turning_Loop           499993 non-null  float64       \n",
            " 45  Sunrise_Sunset         499971 non-null  object        \n",
            " 46  Civil_Twilight         499971 non-null  object        \n",
            " 47  Nautical_Twilight      499971 non-null  object        \n",
            " 48  Astronomical_Twilight  499971 non-null  object        \n",
            " 49  Year                   499993 non-null  float64       \n",
            " 50  Month                  499993 non-null  object        \n",
            " 51  Day                    499993 non-null  float64       \n",
            " 52  Hour                   499993 non-null  float64       \n",
            " 53  Weekday                499993 non-null  object        \n",
            " 54  Time_Duration(min)     499993 non-null  float64       \n",
            "dtypes: datetime64[ns](2), float64(32), object(21)\n",
            "memory usage: 213.6+ MB\n"
          ],
          "name": "stdout"
        }
      ]
    },
    {
      "cell_type": "code",
      "metadata": {
        "id": "zYzkO1bO2Ysx",
        "outputId": "6bfba202-9ce2-469b-f551-599fd5989caa",
        "colab": {
          "base_uri": "https://localhost:8080/"
        }
      },
      "source": [
        "# Kontrollera föringet negativt td\n",
        "df[td][df[td]<=0]"
      ],
      "execution_count": null,
      "outputs": [
        {
          "output_type": "execute_result",
          "data": {
            "text/plain": [
              "Series([], Name: Time_Duration(min), dtype: float64)"
            ]
          },
          "metadata": {
            "tags": []
          },
          "execution_count": 339
        }
      ]
    },
    {
      "cell_type": "code",
      "metadata": {
        "id": "T2D8spz3m8BA",
        "outputId": "b3e7af84-264a-40ac-9702-8708215888cb",
        "colab": {
          "base_uri": "https://localhost:8080/"
        }
      },
      "source": [
        "#hanterar outliers i time_duration med hjälp av standardavikelse och median \n",
        "n=3\n",
        "\n",
        "median = df[td].median()\n",
        "std = df[td].std()\n",
        "outliers = (df[td] - median).abs() > std*n\n",
        "#Identifierar outliers\n",
        "\n",
        "df[outliers] = np.nan\n",
        "#ersätter outliers med NaN\n",
        "\n",
        "df[td].fillna(median, inplace=True)\n",
        "#ersätter Time_Duration med median\n",
        "df.info()"
      ],
      "execution_count": null,
      "outputs": [
        {
          "output_type": "stream",
          "text": [
            "<class 'pandas.core.frame.DataFrame'>\n",
            "Int64Index: 499993 entries, 0 to 499999\n",
            "Data columns (total 55 columns):\n",
            " #   Column                 Non-Null Count   Dtype         \n",
            "---  ------                 --------------   -----         \n",
            " 0   ID                     499988 non-null  object        \n",
            " 1   Source                 499988 non-null  object        \n",
            " 2   TMC                    499988 non-null  float64       \n",
            " 3   Severity               499988 non-null  float64       \n",
            " 4   Start_Time             499988 non-null  datetime64[ns]\n",
            " 5   End_Time               499988 non-null  datetime64[ns]\n",
            " 6   Start_Lat              499988 non-null  float64       \n",
            " 7   Start_Lng              499988 non-null  float64       \n",
            " 8   End_Lat                0 non-null       float64       \n",
            " 9   End_Lng                0 non-null       float64       \n",
            " 10  Distance(mi)           499988 non-null  float64       \n",
            " 11  Description            499988 non-null  object        \n",
            " 12  Number                 176440 non-null  float64       \n",
            " 13  Street                 499988 non-null  object        \n",
            " 14  Side                   499988 non-null  object        \n",
            " 15  City                   499966 non-null  object        \n",
            " 16  County                 499988 non-null  object        \n",
            " 17  State                  499988 non-null  object        \n",
            " 18  Zipcode                499926 non-null  object        \n",
            " 19  Country                499988 non-null  object        \n",
            " 20  Timezone               499926 non-null  object        \n",
            " 21  Airport_Code           499926 non-null  object        \n",
            " 22  Weather_Timestamp      495871 non-null  object        \n",
            " 23  Temperature(F)         492736 non-null  float64       \n",
            " 24  Wind_Chill(F)          62359 non-null   float64       \n",
            " 25  Humidity(%)            492071 non-null  float64       \n",
            " 26  Pressure(in)           494247 non-null  float64       \n",
            " 27  Visibility(mi)         489447 non-null  float64       \n",
            " 28  Wind_Direction         495839 non-null  object        \n",
            " 29  Wind_Speed(mph)        410949 non-null  float64       \n",
            " 30  Precipitation(in)      51944 non-null   float64       \n",
            " 31  Weather_Condition      489801 non-null  object        \n",
            " 32  Amenity                499988 non-null  float64       \n",
            " 33  Bump                   499988 non-null  float64       \n",
            " 34  Crossing               499988 non-null  float64       \n",
            " 35  Give_Way               499988 non-null  float64       \n",
            " 36  Junction               499988 non-null  float64       \n",
            " 37  No_Exit                499988 non-null  float64       \n",
            " 38  Railway                499988 non-null  float64       \n",
            " 39  Roundabout             499988 non-null  float64       \n",
            " 40  Station                499988 non-null  float64       \n",
            " 41  Stop                   499988 non-null  float64       \n",
            " 42  Traffic_Calming        499988 non-null  float64       \n",
            " 43  Traffic_Signal         499988 non-null  float64       \n",
            " 44  Turning_Loop           499988 non-null  float64       \n",
            " 45  Sunrise_Sunset         499966 non-null  object        \n",
            " 46  Civil_Twilight         499966 non-null  object        \n",
            " 47  Nautical_Twilight      499966 non-null  object        \n",
            " 48  Astronomical_Twilight  499966 non-null  object        \n",
            " 49  Year                   499988 non-null  float64       \n",
            " 50  Month                  499988 non-null  object        \n",
            " 51  Day                    499988 non-null  float64       \n",
            " 52  Hour                   499988 non-null  float64       \n",
            " 53  Weekday                499988 non-null  object        \n",
            " 54  Time_Duration(min)     499993 non-null  float64       \n",
            "dtypes: datetime64[ns](2), float64(32), object(21)\n",
            "memory usage: 213.6+ MB\n"
          ],
          "name": "stdout"
        }
      ]
    },
    {
      "cell_type": "markdown",
      "metadata": {
        "id": "fQXJaeFSLPy4"
      },
      "source": [
        "Pre-processing för Traffic_Signal\n"
      ]
    },
    {
      "cell_type": "code",
      "metadata": {
        "id": "WL8CW8BEK62J",
        "outputId": "f11268c7-792d-4442-d395-47955e07891c",
        "colab": {
          "base_uri": "https://localhost:8080/"
        }
      },
      "source": [
        "df['Traffic_Signal'].isnull().value_counts()\n",
        "#NaN-värde"
      ],
      "execution_count": null,
      "outputs": [
        {
          "output_type": "execute_result",
          "data": {
            "text/plain": [
              "False    499988\n",
              "True          5\n",
              "Name: Traffic_Signal, dtype: int64"
            ]
          },
          "metadata": {
            "tags": []
          },
          "execution_count": 341
        }
      ]
    },
    {
      "cell_type": "code",
      "metadata": {
        "id": "J4iNX9Jufm38"
      },
      "source": [
        "#Ersätter NaN med 0\n",
        "df['Traffic_Signal'].fillna((0), inplace=True)"
      ],
      "execution_count": null,
      "outputs": []
    },
    {
      "cell_type": "code",
      "metadata": {
        "id": "QYVInoES88J3",
        "outputId": "a6dc2b25-d9b2-484f-8f72-fbabfb0329ed",
        "colab": {
          "base_uri": "https://localhost:8080/"
        }
      },
      "source": [
        "#Kontroller NaN-värden\n",
        "df['Traffic_Signal'].isnull().value_counts()"
      ],
      "execution_count": null,
      "outputs": [
        {
          "output_type": "execute_result",
          "data": {
            "text/plain": [
              "False    499993\n",
              "Name: Traffic_Signal, dtype: int64"
            ]
          },
          "metadata": {
            "tags": []
          },
          "execution_count": 343
        }
      ]
    },
    {
      "cell_type": "code",
      "metadata": {
        "id": "waSTk5eIvJZG",
        "outputId": "498c4032-887d-4a6a-ae7c-dd0fcb39f794",
        "colab": {
          "base_uri": "https://localhost:8080/"
        }
      },
      "source": [
        "#Ska bara finns true- och false-värden\n",
        "df['Traffic_Signal'].value_counts()"
      ],
      "execution_count": null,
      "outputs": [
        {
          "output_type": "execute_result",
          "data": {
            "text/plain": [
              "0.0    400810\n",
              "1.0     99183\n",
              "Name: Traffic_Signal, dtype: int64"
            ]
          },
          "metadata": {
            "tags": []
          },
          "execution_count": 344
        }
      ]
    },
    {
      "cell_type": "code",
      "metadata": {
        "id": "efhufOwCRnDf"
      },
      "source": [
        ""
      ],
      "execution_count": null,
      "outputs": []
    },
    {
      "cell_type": "code",
      "metadata": {
        "id": "6FmJrrr_RmwE"
      },
      "source": [
        ""
      ],
      "execution_count": null,
      "outputs": []
    },
    {
      "cell_type": "code",
      "metadata": {
        "id": "J5oxtJLjRpW5"
      },
      "source": [
        ""
      ],
      "execution_count": null,
      "outputs": []
    },
    {
      "cell_type": "code",
      "metadata": {
        "id": "jjY9AY3k3R9h",
        "outputId": "4fc5a855-8212-4c75-acc6-53a87202a0f1",
        "colab": {
          "base_uri": "https://localhost:8080/"
        }
      },
      "source": [
        "# Print time_duration information\n",
        "print('Max time to clear an accident: {} minutes or {} hours or {} days; Min to clear an accident td: {} minutes.'.format(df[td].max(),round(df[td].max()/60), round(df[td].max()/60/24), df[td].min()))"
      ],
      "execution_count": null,
      "outputs": [
        {
          "output_type": "stream",
          "text": [
            "Max time to clear an accident: 1488.0 minutes or 25 hours or 1 days; Min to clear an accident td: 10.0 minutes.\n"
          ],
          "name": "stdout"
        }
      ]
    },
    {
      "cell_type": "code",
      "metadata": {
        "id": "kfAbYKgu5dfV"
      },
      "source": [
        "#exporterar städat data\n",
        "df.to_csv('US_Accidents_June20_clean.csv',index=False)"
      ],
      "execution_count": null,
      "outputs": []
    },
    {
      "cell_type": "code",
      "metadata": {
        "id": "E-v-c92u35Vr"
      },
      "source": [
        "# lista över funktioner som ska användas till våra algoritmer\n",
        "feature_lst=['Source','TMC','Severity','Start_Lng','Start_Lat','Distance(mi)','Side','City','County','State','Timezone','Temperature(F)','Humidity(%)','Pressure(in)', 'Visibility(mi)', 'Wind_Direction','Weather_Condition','Amenity','Bump','Crossing','Give_Way','Junction','No_Exit','Railway','Roundabout','Station','Stop','Traffic_Calming','Traffic_Signal','Turning_Loop','Sunrise_Sunset','Hour','Weekday', 'Time_Duration(min)']"
      ],
      "execution_count": null,
      "outputs": []
    },
    {
      "cell_type": "code",
      "metadata": {
        "id": "KCfQog7l4SP3"
      },
      "source": [
        "# datframe med våra utvalda funktioner\n",
        "df_sel=df[feature_lst].copy()"
      ],
      "execution_count": null,
      "outputs": []
    },
    {
      "cell_type": "code",
      "metadata": {
        "id": "oDW9Ymb05M6Y"
      },
      "source": [
        "#exporterar utvald data\n",
        "df_sel.to_csv('./US_Accidents_June20_clean_sel.csv',index=False)"
      ],
      "execution_count": null,
      "outputs": []
    },
    {
      "cell_type": "code",
      "metadata": {
        "id": "aAWA7oyR5rBw",
        "outputId": "0d646080-96ef-4f81-d1be-47a549577203",
        "colab": {
          "base_uri": "https://localhost:8080/"
        }
      },
      "source": [
        "# Kontroller saknade värden för varje kolumn. Om ett värde är NaN blir det värdet representerat av en etta i övriga fall  är värdet 0 och sedan tas medelvärdet på kolumnen\n",
        "df_sel.isnull().mean()"
      ],
      "execution_count": null,
      "outputs": [
        {
          "output_type": "execute_result",
          "data": {
            "text/plain": [
              "Source                0.000010\n",
              "TMC                   0.000010\n",
              "Severity              0.000010\n",
              "Start_Lng             0.000010\n",
              "Start_Lat             0.000010\n",
              "Distance(mi)          0.000010\n",
              "Side                  0.000010\n",
              "City                  0.000054\n",
              "County                0.000010\n",
              "State                 0.000010\n",
              "Timezone              0.000134\n",
              "Temperature(F)        0.014514\n",
              "Humidity(%)           0.015844\n",
              "Pressure(in)          0.011492\n",
              "Visibility(mi)        0.021092\n",
              "Wind_Direction        0.008308\n",
              "Weather_Condition     0.020384\n",
              "Amenity               0.000010\n",
              "Bump                  0.000010\n",
              "Crossing              0.000010\n",
              "Give_Way              0.000010\n",
              "Junction              0.000010\n",
              "No_Exit               0.000010\n",
              "Railway               0.000010\n",
              "Roundabout            0.000010\n",
              "Station               0.000010\n",
              "Stop                  0.000010\n",
              "Traffic_Calming       0.000010\n",
              "Traffic_Signal        0.000000\n",
              "Turning_Loop          0.000010\n",
              "Sunrise_Sunset        0.000054\n",
              "Hour                  0.000010\n",
              "Weekday               0.000010\n",
              "Time_Duration(min)    0.000000\n",
              "dtype: float64"
            ]
          },
          "metadata": {
            "tags": []
          },
          "execution_count": 350
        }
      ]
    },
    {
      "cell_type": "code",
      "metadata": {
        "id": "5P9V041u6Oee",
        "outputId": "daede588-8384-4208-a7e7-70814fff3037",
        "colab": {
          "base_uri": "https://localhost:8080/"
        }
      },
      "source": [
        "# raderar rader med NaN med hjälp av mean()\n",
        "df_sel.dropna(subset=df_sel.columns[df_sel.isnull().mean()!=0], how='any', axis=0, inplace=True)\n",
        "df_sel.shape"
      ],
      "execution_count": null,
      "outputs": [
        {
          "output_type": "execute_result",
          "data": {
            "text/plain": [
              "(485052, 34)"
            ]
          },
          "metadata": {
            "tags": []
          },
          "execution_count": 351
        }
      ]
    },
    {
      "cell_type": "code",
      "metadata": {
        "id": "_piRaROoE7N0",
        "outputId": "4e61d943-e21b-4bc0-9152-c929405dd816",
        "colab": {
          "base_uri": "https://localhost:8080/"
        }
      },
      "source": [
        "df_sel.isnull().mean()"
      ],
      "execution_count": null,
      "outputs": [
        {
          "output_type": "execute_result",
          "data": {
            "text/plain": [
              "Source                0.0\n",
              "TMC                   0.0\n",
              "Severity              0.0\n",
              "Start_Lng             0.0\n",
              "Start_Lat             0.0\n",
              "Distance(mi)          0.0\n",
              "Side                  0.0\n",
              "City                  0.0\n",
              "County                0.0\n",
              "State                 0.0\n",
              "Timezone              0.0\n",
              "Temperature(F)        0.0\n",
              "Humidity(%)           0.0\n",
              "Pressure(in)          0.0\n",
              "Visibility(mi)        0.0\n",
              "Wind_Direction        0.0\n",
              "Weather_Condition     0.0\n",
              "Amenity               0.0\n",
              "Bump                  0.0\n",
              "Crossing              0.0\n",
              "Give_Way              0.0\n",
              "Junction              0.0\n",
              "No_Exit               0.0\n",
              "Railway               0.0\n",
              "Roundabout            0.0\n",
              "Station               0.0\n",
              "Stop                  0.0\n",
              "Traffic_Calming       0.0\n",
              "Traffic_Signal        0.0\n",
              "Turning_Loop          0.0\n",
              "Sunrise_Sunset        0.0\n",
              "Hour                  0.0\n",
              "Weekday               0.0\n",
              "Time_Duration(min)    0.0\n",
              "dtype: float64"
            ]
          },
          "metadata": {
            "tags": []
          },
          "execution_count": 352
        }
      ]
    },
    {
      "cell_type": "code",
      "metadata": {
        "id": "0KhQdfI76kOD"
      },
      "source": [
        "# Exporterar dataset med raderade nullvärden.\n",
        "df_sel.to_csv('./US_Accidents_June20_clean_sel_dropna.csv',index=False)"
      ],
      "execution_count": null,
      "outputs": []
    },
    {
      "cell_type": "markdown",
      "metadata": {
        "id": "71kWdT_K7hnt"
      },
      "source": [
        "## Utforska och visualisera data (descriptiv statistics)\n",
        "Producera statistik från ert dataset. Utforska data genom att använda visualiering, och demonstrera att ni behörskar ett antal olika sätt att visualisera data i grafiskt form. Minst ett histogram och ett spridningsdiagram ska uppvisas i denna del för full poäng. (20 poäng)."
      ]
    },
    {
      "cell_type": "code",
      "metadata": {
        "id": "Py3utz5DGfBU",
        "outputId": "b0b29fb6-3557-4067-de8e-95c78057db5d",
        "colab": {
          "base_uri": "https://localhost:8080/",
          "height": 356
        }
      },
      "source": [
        "#Visar olycksgraden i förhållande till 15 delstater\n",
        "df_top_Severity_State = df.groupby('State').agg({'Severity': 'mean'}).sort_values('Severity').reset_index()\n",
        "plt.figure(figsize=(10,5))\n",
        "sns.barplot(y=\"Severity\", x=\"State\", data=df_top_Severity_State.head(15))\n",
        "plt.ioff()"
      ],
      "execution_count": null,
      "outputs": [
        {
          "output_type": "display_data",
          "data": {
            "image/png": "[encoded data removed]",
            "text/plain": [
              "<Figure size 720x360 with 1 Axes>"
            ]
          },
          "metadata": {
            "tags": []
          }
        }
      ]
    },
    {
      "cell_type": "code",
      "metadata": {
        "id": "lG1GH83UJv_7",
        "outputId": "12801ac9-dcae-4b7c-96e2-965653ed2131",
        "colab": {
          "base_uri": "https://localhost:8080/",
          "height": 334
        }
      },
      "source": [
        "df.describe()"
      ],
      "execution_count": null,
      "outputs": [
        {
          "output_type": "execute_result",
          "data": {
            "text/html": [
              "<div>\n",
              "<style scoped>\n",
              "    .dataframe tbody tr th:only-of-type {\n",
              "        vertical-align: middle;\n",
              "    }\n",
              "\n",
              "    .dataframe tbody tr th {\n",
              "        vertical-align: top;\n",
              "    }\n",
              "\n",
              "    .dataframe thead th {\n",
              "        text-align: right;\n",
              "    }\n",
              "</style>\n",
              "<table border=\"1\" class=\"dataframe\">\n",
              "  <thead>\n",
              "    <tr style=\"text-align: right;\">\n",
              "      <th></th>\n",
              "      <th>TMC</th>\n",
              "      <th>Severity</th>\n",
              "      <th>Start_Lat</th>\n",
              "      <th>Start_Lng</th>\n",
              "      <th>End_Lat</th>\n",
              "      <th>End_Lng</th>\n",
              "      <th>Distance(mi)</th>\n",
              "      <th>Number</th>\n",
              "      <th>Temperature(F)</th>\n",
              "      <th>Wind_Chill(F)</th>\n",
              "      <th>Humidity(%)</th>\n",
              "      <th>Pressure(in)</th>\n",
              "      <th>Visibility(mi)</th>\n",
              "      <th>Wind_Speed(mph)</th>\n",
              "      <th>Precipitation(in)</th>\n",
              "      <th>Amenity</th>\n",
              "      <th>Bump</th>\n",
              "      <th>Crossing</th>\n",
              "      <th>Give_Way</th>\n",
              "      <th>Junction</th>\n",
              "      <th>No_Exit</th>\n",
              "      <th>Railway</th>\n",
              "      <th>Roundabout</th>\n",
              "      <th>Station</th>\n",
              "      <th>Stop</th>\n",
              "      <th>Traffic_Calming</th>\n",
              "      <th>Traffic_Signal</th>\n",
              "      <th>Turning_Loop</th>\n",
              "      <th>Year</th>\n",
              "      <th>Day</th>\n",
              "      <th>Hour</th>\n",
              "      <th>Time_Duration(min)</th>\n",
              "    </tr>\n",
              "  </thead>\n",
              "  <tbody>\n",
              "    <tr>\n",
              "      <th>count</th>\n",
              "      <td>499988.000000</td>\n",
              "      <td>499988.000000</td>\n",
              "      <td>499988.000000</td>\n",
              "      <td>499988.000000</td>\n",
              "      <td>0.0</td>\n",
              "      <td>0.0</td>\n",
              "      <td>499988.000000</td>\n",
              "      <td>176440.000000</td>\n",
              "      <td>492736.000000</td>\n",
              "      <td>62359.000000</td>\n",
              "      <td>492071.000000</td>\n",
              "      <td>494247.000000</td>\n",
              "      <td>489447.000000</td>\n",
              "      <td>410949.000000</td>\n",
              "      <td>51944.000000</td>\n",
              "      <td>499988.000000</td>\n",
              "      <td>499988.000000</td>\n",
              "      <td>499988.000000</td>\n",
              "      <td>499988.000000</td>\n",
              "      <td>499988.000000</td>\n",
              "      <td>499988.000000</td>\n",
              "      <td>499988.000000</td>\n",
              "      <td>499988.000000</td>\n",
              "      <td>499988.000000</td>\n",
              "      <td>499988.000000</td>\n",
              "      <td>499988.000000</td>\n",
              "      <td>499993.000000</td>\n",
              "      <td>499988.0</td>\n",
              "      <td>499988.000000</td>\n",
              "      <td>499988.000000</td>\n",
              "      <td>499988.000000</td>\n",
              "      <td>499993.000000</td>\n",
              "    </tr>\n",
              "    <tr>\n",
              "      <th>mean</th>\n",
              "      <td>208.208647</td>\n",
              "      <td>2.374689</td>\n",
              "      <td>35.929448</td>\n",
              "      <td>-97.590579</td>\n",
              "      <td>NaN</td>\n",
              "      <td>NaN</td>\n",
              "      <td>0.065287</td>\n",
              "      <td>5214.750595</td>\n",
              "      <td>64.667681</td>\n",
              "      <td>30.422478</td>\n",
              "      <td>64.529342</td>\n",
              "      <td>30.004806</td>\n",
              "      <td>9.227906</td>\n",
              "      <td>8.913074</td>\n",
              "      <td>0.068998</td>\n",
              "      <td>0.015724</td>\n",
              "      <td>0.000136</td>\n",
              "      <td>0.076346</td>\n",
              "      <td>0.002548</td>\n",
              "      <td>0.060653</td>\n",
              "      <td>0.000942</td>\n",
              "      <td>0.009080</td>\n",
              "      <td>0.000056</td>\n",
              "      <td>0.025457</td>\n",
              "      <td>0.015968</td>\n",
              "      <td>0.000446</td>\n",
              "      <td>0.198369</td>\n",
              "      <td>0.0</td>\n",
              "      <td>2016.437472</td>\n",
              "      <td>15.682762</td>\n",
              "      <td>12.716713</td>\n",
              "      <td>39.925477</td>\n",
              "    </tr>\n",
              "    <tr>\n",
              "      <th>std</th>\n",
              "      <td>19.530117</td>\n",
              "      <td>0.486795</td>\n",
              "      <td>5.032490</td>\n",
              "      <td>18.280984</td>\n",
              "      <td>NaN</td>\n",
              "      <td>NaN</td>\n",
              "      <td>0.782867</td>\n",
              "      <td>7650.766240</td>\n",
              "      <td>16.877598</td>\n",
              "      <td>15.796170</td>\n",
              "      <td>21.387982</td>\n",
              "      <td>0.242346</td>\n",
              "      <td>2.140201</td>\n",
              "      <td>5.414958</td>\n",
              "      <td>0.562101</td>\n",
              "      <td>0.124407</td>\n",
              "      <td>0.011661</td>\n",
              "      <td>0.265551</td>\n",
              "      <td>0.050414</td>\n",
              "      <td>0.238694</td>\n",
              "      <td>0.030678</td>\n",
              "      <td>0.094857</td>\n",
              "      <td>0.007483</td>\n",
              "      <td>0.157508</td>\n",
              "      <td>0.125353</td>\n",
              "      <td>0.021114</td>\n",
              "      <td>0.398772</td>\n",
              "      <td>0.0</td>\n",
              "      <td>0.496075</td>\n",
              "      <td>8.720144</td>\n",
              "      <td>5.205430</td>\n",
              "      <td>17.826755</td>\n",
              "    </tr>\n",
              "    <tr>\n",
              "      <th>min</th>\n",
              "      <td>200.000000</td>\n",
              "      <td>1.000000</td>\n",
              "      <td>25.433098</td>\n",
              "      <td>-123.813927</td>\n",
              "      <td>NaN</td>\n",
              "      <td>NaN</td>\n",
              "      <td>0.000000</td>\n",
              "      <td>1.000000</td>\n",
              "      <td>-77.800000</td>\n",
              "      <td>-29.300000</td>\n",
              "      <td>4.000000</td>\n",
              "      <td>0.120000</td>\n",
              "      <td>0.000000</td>\n",
              "      <td>0.000000</td>\n",
              "      <td>0.000000</td>\n",
              "      <td>0.000000</td>\n",
              "      <td>0.000000</td>\n",
              "      <td>0.000000</td>\n",
              "      <td>0.000000</td>\n",
              "      <td>0.000000</td>\n",
              "      <td>0.000000</td>\n",
              "      <td>0.000000</td>\n",
              "      <td>0.000000</td>\n",
              "      <td>0.000000</td>\n",
              "      <td>0.000000</td>\n",
              "      <td>0.000000</td>\n",
              "      <td>0.000000</td>\n",
              "      <td>0.0</td>\n",
              "      <td>2016.000000</td>\n",
              "      <td>1.000000</td>\n",
              "      <td>0.000000</td>\n",
              "      <td>10.000000</td>\n",
              "    </tr>\n",
              "    <tr>\n",
              "      <th>25%</th>\n",
              "      <td>201.000000</td>\n",
              "      <td>2.000000</td>\n",
              "      <td>32.811329</td>\n",
              "      <td>-118.096634</td>\n",
              "      <td>NaN</td>\n",
              "      <td>NaN</td>\n",
              "      <td>0.000000</td>\n",
              "      <td>725.000000</td>\n",
              "      <td>55.000000</td>\n",
              "      <td>21.900000</td>\n",
              "      <td>49.000000</td>\n",
              "      <td>29.900000</td>\n",
              "      <td>10.000000</td>\n",
              "      <td>5.800000</td>\n",
              "      <td>0.000000</td>\n",
              "      <td>0.000000</td>\n",
              "      <td>0.000000</td>\n",
              "      <td>0.000000</td>\n",
              "      <td>0.000000</td>\n",
              "      <td>0.000000</td>\n",
              "      <td>0.000000</td>\n",
              "      <td>0.000000</td>\n",
              "      <td>0.000000</td>\n",
              "      <td>0.000000</td>\n",
              "      <td>0.000000</td>\n",
              "      <td>0.000000</td>\n",
              "      <td>0.000000</td>\n",
              "      <td>0.0</td>\n",
              "      <td>2016.000000</td>\n",
              "      <td>8.000000</td>\n",
              "      <td>9.000000</td>\n",
              "      <td>30.000000</td>\n",
              "    </tr>\n",
              "    <tr>\n",
              "      <th>50%</th>\n",
              "      <td>201.000000</td>\n",
              "      <td>2.000000</td>\n",
              "      <td>34.247261</td>\n",
              "      <td>-95.543991</td>\n",
              "      <td>NaN</td>\n",
              "      <td>NaN</td>\n",
              "      <td>0.010000</td>\n",
              "      <td>2435.000000</td>\n",
              "      <td>66.200000</td>\n",
              "      <td>31.000000</td>\n",
              "      <td>66.000000</td>\n",
              "      <td>30.000000</td>\n",
              "      <td>10.000000</td>\n",
              "      <td>8.100000</td>\n",
              "      <td>0.010000</td>\n",
              "      <td>0.000000</td>\n",
              "      <td>0.000000</td>\n",
              "      <td>0.000000</td>\n",
              "      <td>0.000000</td>\n",
              "      <td>0.000000</td>\n",
              "      <td>0.000000</td>\n",
              "      <td>0.000000</td>\n",
              "      <td>0.000000</td>\n",
              "      <td>0.000000</td>\n",
              "      <td>0.000000</td>\n",
              "      <td>0.000000</td>\n",
              "      <td>0.000000</td>\n",
              "      <td>0.0</td>\n",
              "      <td>2016.000000</td>\n",
              "      <td>16.000000</td>\n",
              "      <td>12.000000</td>\n",
              "      <td>30.000000</td>\n",
              "    </tr>\n",
              "    <tr>\n",
              "      <th>75%</th>\n",
              "      <td>201.000000</td>\n",
              "      <td>3.000000</td>\n",
              "      <td>40.134354</td>\n",
              "      <td>-81.565738</td>\n",
              "      <td>NaN</td>\n",
              "      <td>NaN</td>\n",
              "      <td>0.010000</td>\n",
              "      <td>6773.250000</td>\n",
              "      <td>77.000000</td>\n",
              "      <td>38.100000</td>\n",
              "      <td>82.000000</td>\n",
              "      <td>30.110000</td>\n",
              "      <td>10.000000</td>\n",
              "      <td>11.500000</td>\n",
              "      <td>0.040000</td>\n",
              "      <td>0.000000</td>\n",
              "      <td>0.000000</td>\n",
              "      <td>0.000000</td>\n",
              "      <td>0.000000</td>\n",
              "      <td>0.000000</td>\n",
              "      <td>0.000000</td>\n",
              "      <td>0.000000</td>\n",
              "      <td>0.000000</td>\n",
              "      <td>0.000000</td>\n",
              "      <td>0.000000</td>\n",
              "      <td>0.000000</td>\n",
              "      <td>0.000000</td>\n",
              "      <td>0.0</td>\n",
              "      <td>2017.000000</td>\n",
              "      <td>23.000000</td>\n",
              "      <td>17.000000</td>\n",
              "      <td>45.000000</td>\n",
              "    </tr>\n",
              "    <tr>\n",
              "      <th>max</th>\n",
              "      <td>406.000000</td>\n",
              "      <td>4.000000</td>\n",
              "      <td>48.199970</td>\n",
              "      <td>-70.571518</td>\n",
              "      <td>NaN</td>\n",
              "      <td>NaN</td>\n",
              "      <td>90.370003</td>\n",
              "      <td>312568.000000</td>\n",
              "      <td>161.600000</td>\n",
              "      <td>111.000000</td>\n",
              "      <td>100.000000</td>\n",
              "      <td>33.040000</td>\n",
              "      <td>111.000000</td>\n",
              "      <td>822.800000</td>\n",
              "      <td>10.140000</td>\n",
              "      <td>1.000000</td>\n",
              "      <td>1.000000</td>\n",
              "      <td>1.000000</td>\n",
              "      <td>1.000000</td>\n",
              "      <td>1.000000</td>\n",
              "      <td>1.000000</td>\n",
              "      <td>1.000000</td>\n",
              "      <td>1.000000</td>\n",
              "      <td>1.000000</td>\n",
              "      <td>1.000000</td>\n",
              "      <td>1.000000</td>\n",
              "      <td>1.000000</td>\n",
              "      <td>0.0</td>\n",
              "      <td>2017.000000</td>\n",
              "      <td>31.000000</td>\n",
              "      <td>23.000000</td>\n",
              "      <td>1488.000000</td>\n",
              "    </tr>\n",
              "  </tbody>\n",
              "</table>\n",
              "</div>"
            ],
            "text/plain": [
              "                 TMC       Severity      Start_Lat      Start_Lng  End_Lat  \\\n",
              "count  499988.000000  499988.000000  499988.000000  499988.000000      0.0   \n",
              "mean      208.208647       2.374689      35.929448     -97.590579      NaN   \n",
              "std        19.530117       0.486795       5.032490      18.280984      NaN   \n",
              "min       200.000000       1.000000      25.433098    -123.813927      NaN   \n",
              "25%       201.000000       2.000000      32.811329    -118.096634      NaN   \n",
              "50%       201.000000       2.000000      34.247261     -95.543991      NaN   \n",
              "75%       201.000000       3.000000      40.134354     -81.565738      NaN   \n",
              "max       406.000000       4.000000      48.199970     -70.571518      NaN   \n",
              "\n",
              "       End_Lng   Distance(mi)         Number  Temperature(F)  Wind_Chill(F)  \\\n",
              "count      0.0  499988.000000  176440.000000   492736.000000   62359.000000   \n",
              "mean       NaN       0.065287    5214.750595       64.667681      30.422478   \n",
              "std        NaN       0.782867    7650.766240       16.877598      15.796170   \n",
              "min        NaN       0.000000       1.000000      -77.800000     -29.300000   \n",
              "25%        NaN       0.000000     725.000000       55.000000      21.900000   \n",
              "50%        NaN       0.010000    2435.000000       66.200000      31.000000   \n",
              "75%        NaN       0.010000    6773.250000       77.000000      38.100000   \n",
              "max        NaN      90.370003  312568.000000      161.600000     111.000000   \n",
              "\n",
              "         Humidity(%)   Pressure(in)  Visibility(mi)  Wind_Speed(mph)  \\\n",
              "count  492071.000000  494247.000000   489447.000000    410949.000000   \n",
              "mean       64.529342      30.004806        9.227906         8.913074   \n",
              "std        21.387982       0.242346        2.140201         5.414958   \n",
              "min         4.000000       0.120000        0.000000         0.000000   \n",
              "25%        49.000000      29.900000       10.000000         5.800000   \n",
              "50%        66.000000      30.000000       10.000000         8.100000   \n",
              "75%        82.000000      30.110000       10.000000        11.500000   \n",
              "max       100.000000      33.040000      111.000000       822.800000   \n",
              "\n",
              "       Precipitation(in)        Amenity           Bump       Crossing  \\\n",
              "count       51944.000000  499988.000000  499988.000000  499988.000000   \n",
              "mean            0.068998       0.015724       0.000136       0.076346   \n",
              "std             0.562101       0.124407       0.011661       0.265551   \n",
              "min             0.000000       0.000000       0.000000       0.000000   \n",
              "25%             0.000000       0.000000       0.000000       0.000000   \n",
              "50%             0.010000       0.000000       0.000000       0.000000   \n",
              "75%             0.040000       0.000000       0.000000       0.000000   \n",
              "max            10.140000       1.000000       1.000000       1.000000   \n",
              "\n",
              "            Give_Way       Junction        No_Exit        Railway  \\\n",
              "count  499988.000000  499988.000000  499988.000000  499988.000000   \n",
              "mean        0.002548       0.060653       0.000942       0.009080   \n",
              "std         0.050414       0.238694       0.030678       0.094857   \n",
              "min         0.000000       0.000000       0.000000       0.000000   \n",
              "25%         0.000000       0.000000       0.000000       0.000000   \n",
              "50%         0.000000       0.000000       0.000000       0.000000   \n",
              "75%         0.000000       0.000000       0.000000       0.000000   \n",
              "max         1.000000       1.000000       1.000000       1.000000   \n",
              "\n",
              "          Roundabout        Station           Stop  Traffic_Calming  \\\n",
              "count  499988.000000  499988.000000  499988.000000    499988.000000   \n",
              "mean        0.000056       0.025457       0.015968         0.000446   \n",
              "std         0.007483       0.157508       0.125353         0.021114   \n",
              "min         0.000000       0.000000       0.000000         0.000000   \n",
              "25%         0.000000       0.000000       0.000000         0.000000   \n",
              "50%         0.000000       0.000000       0.000000         0.000000   \n",
              "75%         0.000000       0.000000       0.000000         0.000000   \n",
              "max         1.000000       1.000000       1.000000         1.000000   \n",
              "\n",
              "       Traffic_Signal  Turning_Loop           Year            Day  \\\n",
              "count   499993.000000      499988.0  499988.000000  499988.000000   \n",
              "mean         0.198369           0.0    2016.437472      15.682762   \n",
              "std          0.398772           0.0       0.496075       8.720144   \n",
              "min          0.000000           0.0    2016.000000       1.000000   \n",
              "25%          0.000000           0.0    2016.000000       8.000000   \n",
              "50%          0.000000           0.0    2016.000000      16.000000   \n",
              "75%          0.000000           0.0    2017.000000      23.000000   \n",
              "max          1.000000           0.0    2017.000000      31.000000   \n",
              "\n",
              "                Hour  Time_Duration(min)  \n",
              "count  499988.000000       499993.000000  \n",
              "mean       12.716713           39.925477  \n",
              "std         5.205430           17.826755  \n",
              "min         0.000000           10.000000  \n",
              "25%         9.000000           30.000000  \n",
              "50%        12.000000           30.000000  \n",
              "75%        17.000000           45.000000  \n",
              "max        23.000000         1488.000000  "
            ]
          },
          "metadata": {
            "tags": []
          },
          "execution_count": 355
        }
      ]
    },
    {
      "cell_type": "code",
      "metadata": {
        "id": "dJvuGK-76qPs",
        "outputId": "2060cc7d-e526-4a12-f042-c7596dd89c30",
        "colab": {
          "base_uri": "https://localhost:8080/"
        }
      },
      "source": [
        "# väljer ut en delstat för att träna våra modeller på och plotta ut en karta över var olyckor i landet sker. Detta för att bättre illustrera vilka zoner som är mest drabbade.\n",
        "state='TX'\n",
        "\n",
        "# väljer ut Texas\n",
        "df_state=df_sel.loc[df_sel.State==state]\n",
        "df_state.drop('State',axis=1, inplace=True)\n",
        "df_state.info()"
      ],
      "execution_count": null,
      "outputs": [
        {
          "output_type": "stream",
          "text": [
            "<class 'pandas.core.frame.DataFrame'>\n",
            "Int64Index: 75930 entries, 261007 to 490167\n",
            "Data columns (total 33 columns):\n",
            " #   Column              Non-Null Count  Dtype  \n",
            "---  ------              --------------  -----  \n",
            " 0   Source              75930 non-null  object \n",
            " 1   TMC                 75930 non-null  float64\n",
            " 2   Severity            75930 non-null  float64\n",
            " 3   Start_Lng           75930 non-null  float64\n",
            " 4   Start_Lat           75930 non-null  float64\n",
            " 5   Distance(mi)        75930 non-null  float64\n",
            " 6   Side                75930 non-null  object \n",
            " 7   City                75930 non-null  object \n",
            " 8   County              75930 non-null  object \n",
            " 9   Timezone            75930 non-null  object \n",
            " 10  Temperature(F)      75930 non-null  float64\n",
            " 11  Humidity(%)         75930 non-null  float64\n",
            " 12  Pressure(in)        75930 non-null  float64\n",
            " 13  Visibility(mi)      75930 non-null  float64\n",
            " 14  Wind_Direction      75930 non-null  object \n",
            " 15  Weather_Condition   75930 non-null  object \n",
            " 16  Amenity             75930 non-null  float64\n",
            " 17  Bump                75930 non-null  float64\n",
            " 18  Crossing            75930 non-null  float64\n",
            " 19  Give_Way            75930 non-null  float64\n",
            " 20  Junction            75930 non-null  float64\n",
            " 21  No_Exit             75930 non-null  float64\n",
            " 22  Railway             75930 non-null  float64\n",
            " 23  Roundabout          75930 non-null  float64\n",
            " 24  Station             75930 non-null  float64\n",
            " 25  Stop                75930 non-null  float64\n",
            " 26  Traffic_Calming     75930 non-null  float64\n",
            " 27  Traffic_Signal      75930 non-null  float64\n",
            " 28  Turning_Loop        75930 non-null  float64\n",
            " 29  Sunrise_Sunset      75930 non-null  object \n",
            " 30  Hour                75930 non-null  float64\n",
            " 31  Weekday             75930 non-null  object \n",
            " 32  Time_Duration(min)  75930 non-null  float64\n",
            "dtypes: float64(24), object(9)\n",
            "memory usage: 19.7+ MB\n"
          ],
          "name": "stdout"
        },
        {
          "output_type": "stream",
          "text": [
            "/usr/local/lib/python3.6/dist-packages/pandas/core/frame.py:4170: SettingWithCopyWarning: \n",
            "A value is trying to be set on a copy of a slice from a DataFrame\n",
            "\n",
            "See the caveats in the documentation: https://pandas.pydata.org/pandas-docs/stable/user_guide/indexing.html#returning-a-view-versus-a-copy\n",
            "  errors=errors,\n"
          ],
          "name": "stderr"
        }
      ]
    },
    {
      "cell_type": "code",
      "metadata": {
        "id": "JC7hmLNP7byI",
        "outputId": "3e7ac7b7-8131-454b-efe3-aa8e109fd8bf",
        "colab": {
          "base_uri": "https://localhost:8080/"
        }
      },
      "source": [
        "# skapar dummies för kategoriska data\n",
        "df_state_dummy = pd.get_dummies(df_state,drop_first=True)\n",
        "\n",
        "# Exporterar data\n",
        "df_state_dummy.to_csv('US_Accidents_June20_{}_dummy.csv'.format(state),index=False)\n",
        "\n",
        "df_state_dummy.info()"
      ],
      "execution_count": null,
      "outputs": [
        {
          "output_type": "stream",
          "text": [
            "<class 'pandas.core.frame.DataFrame'>\n",
            "Int64Index: 75930 entries, 261007 to 490167\n",
            "Columns: 388 entries, TMC to Weekday_Wed\n",
            "dtypes: float64(24), uint8(364)\n",
            "memory usage: 40.8 MB\n"
          ],
          "name": "stdout"
        }
      ]
    },
    {
      "cell_type": "code",
      "metadata": {
        "id": "mx_c722P62Ep",
        "outputId": "4a9cac5b-8e52-4236-ae09-ed6608b7497b",
        "colab": {
          "base_uri": "https://localhost:8080/",
          "height": 302
        }
      },
      "source": [
        "# Karta över antal olyckor i texas, färgkodar utifrån län.\n",
        "# Vi ser att det är mest i städerna där flest olyckor sker. Går att jämföra med Texas på karta.\n",
        "sns.scatterplot(x='Start_Lng', y='Start_Lat', data=df_state, hue='County', legend=False, s=20)\n",
        "plt.show()"
      ],
      "execution_count": null,
      "outputs": [
        {
          "output_type": "display_data",
          "data": {
            "image/png": "[encoded data removed]",
            "text/plain": [
              "<Figure size 432x288 with 1 Axes>"
            ]
          },
          "metadata": {
            "tags": []
          }
        }
      ]
    },
    {
      "cell_type": "code",
      "metadata": {
        "id": "c_4QTauvsEs7"
      },
      "source": [
        "#funktion för att kunna plota ut flera stapeldiagram \n",
        "def create_plots(columns_list, ncols=3):\n",
        "    nrows= int( (len(columns_list) -1) / ncols)  + 1\n",
        "    fig, axs = plt.subplots(nrows=nrows , ncols=ncols, figsize= (20,nrows*5))\n",
        "    plt.subplots_adjust(hspace=0.7)\n",
        "    plt.subplots_adjust(wspace=0.5)\n",
        "\n",
        "    sns.set(style=\"darkgrid\")\n",
        "\n",
        "    for index ,column in enumerate( columns_list ):\n",
        "        order = df[column].value_counts().iloc[:10].index\n",
        "\n",
        "        if nrows == 1:\n",
        "            g = sns.countplot(df[column], alpha=0.9 ,  \n",
        "                         order= order,\n",
        "                         ax=axs[ index ])\n",
        "        else:\n",
        "            g = sns.countplot(df[column], alpha=0.9 ,  \n",
        "                         order= order,\n",
        "                         ax=axs[ int(index / ncols) ][ int(index % ncols) ])\n",
        "            \n",
        "        g.set_xticklabels(rotation=60, labels = order )\n",
        "        g.set_title(column)"
      ],
      "execution_count": null,
      "outputs": []
    },
    {
      "cell_type": "code",
      "metadata": {
        "id": "Xz0lf9mssIeC",
        "outputId": "86673a3a-3436-4021-eacb-ecb4b97086ad",
        "colab": {
          "base_uri": "https://localhost:8080/",
          "height": 800
        }
      },
      "source": [
        "columns_list = ['City', 'County', 'State' , 'Zipcode' , 'Country' , 'Street']\n",
        "create_plots(columns_list, ncols=3)"
      ],
      "execution_count": null,
      "outputs": [
        {
          "output_type": "stream",
          "text": [
            "/usr/local/lib/python3.6/dist-packages/seaborn/_decorators.py:43: FutureWarning: Pass the following variable as a keyword arg: x. From version 0.12, the only valid positional argument will be `data`, and passing other arguments without an explicit keyword will result in an error or misinterpretation.\n",
            "  FutureWarning\n",
            "/usr/local/lib/python3.6/dist-packages/seaborn/_decorators.py:43: FutureWarning: Pass the following variable as a keyword arg: x. From version 0.12, the only valid positional argument will be `data`, and passing other arguments without an explicit keyword will result in an error or misinterpretation.\n",
            "  FutureWarning\n",
            "/usr/local/lib/python3.6/dist-packages/seaborn/_decorators.py:43: FutureWarning: Pass the following variable as a keyword arg: x. From version 0.12, the only valid positional argument will be `data`, and passing other arguments without an explicit keyword will result in an error or misinterpretation.\n",
            "  FutureWarning\n",
            "/usr/local/lib/python3.6/dist-packages/seaborn/_decorators.py:43: FutureWarning: Pass the following variable as a keyword arg: x. From version 0.12, the only valid positional argument will be `data`, and passing other arguments without an explicit keyword will result in an error or misinterpretation.\n",
            "  FutureWarning\n",
            "/usr/local/lib/python3.6/dist-packages/seaborn/_decorators.py:43: FutureWarning: Pass the following variable as a keyword arg: x. From version 0.12, the only valid positional argument will be `data`, and passing other arguments without an explicit keyword will result in an error or misinterpretation.\n",
            "  FutureWarning\n",
            "/usr/local/lib/python3.6/dist-packages/seaborn/_decorators.py:43: FutureWarning: Pass the following variable as a keyword arg: x. From version 0.12, the only valid positional argument will be `data`, and passing other arguments without an explicit keyword will result in an error or misinterpretation.\n",
            "  FutureWarning\n"
          ],
          "name": "stderr"
        },
        {
          "output_type": "display_data",
          "data": {
            "image/png": "[encoded data removed]",
            "text/plain": [
              "<Figure size 1440x720 with 6 Axes>"
            ]
          },
          "metadata": {
            "tags": []
          }
        }
      ]
    },
    {
      "cell_type": "code",
      "metadata": {
        "id": "LVaNVjAYwuas",
        "outputId": "46b30efe-1354-4cd7-adc3-0c80071348eb",
        "colab": {
          "base_uri": "https://localhost:8080/",
          "height": 717
        }
      },
      "source": [
        "columns_list = ['Timezone' , 'Sunrise_Sunset', 'Civil_Twilight', 'Nautical_Twilight', 'Astronomical_Twilight']\n",
        "create_plots(columns_list,ncols=3)"
      ],
      "execution_count": null,
      "outputs": [
        {
          "output_type": "stream",
          "text": [
            "/usr/local/lib/python3.6/dist-packages/seaborn/_decorators.py:43: FutureWarning: Pass the following variable as a keyword arg: x. From version 0.12, the only valid positional argument will be `data`, and passing other arguments without an explicit keyword will result in an error or misinterpretation.\n",
            "  FutureWarning\n",
            "/usr/local/lib/python3.6/dist-packages/seaborn/_decorators.py:43: FutureWarning: Pass the following variable as a keyword arg: x. From version 0.12, the only valid positional argument will be `data`, and passing other arguments without an explicit keyword will result in an error or misinterpretation.\n",
            "  FutureWarning\n",
            "/usr/local/lib/python3.6/dist-packages/seaborn/_decorators.py:43: FutureWarning: Pass the following variable as a keyword arg: x. From version 0.12, the only valid positional argument will be `data`, and passing other arguments without an explicit keyword will result in an error or misinterpretation.\n",
            "  FutureWarning\n",
            "/usr/local/lib/python3.6/dist-packages/seaborn/_decorators.py:43: FutureWarning: Pass the following variable as a keyword arg: x. From version 0.12, the only valid positional argument will be `data`, and passing other arguments without an explicit keyword will result in an error or misinterpretation.\n",
            "  FutureWarning\n",
            "/usr/local/lib/python3.6/dist-packages/seaborn/_decorators.py:43: FutureWarning: Pass the following variable as a keyword arg: x. From version 0.12, the only valid positional argument will be `data`, and passing other arguments without an explicit keyword will result in an error or misinterpretation.\n",
            "  FutureWarning\n"
          ],
          "name": "stderr"
        },
        {
          "output_type": "display_data",
          "data": {
            "image/png": "[encoded data removed]",
            "text/plain": [
              "<Figure size 1440x720 with 6 Axes>"
            ]
          },
          "metadata": {
            "tags": []
          }
        }
      ]
    },
    {
      "cell_type": "code",
      "metadata": {
        "id": "lKR3sDTQxIUs",
        "outputId": "6d51fcc7-4619-450c-de22-884f24c10858",
        "colab": {
          "base_uri": "https://localhost:8080/",
          "height": 519
        }
      },
      "source": [
        "columns_list = ['Airport_Code', 'Wind_Direction', 'Weather_Condition','Traffic_Signal'] \n",
        "create_plots(columns_list,ncols=4)"
      ],
      "execution_count": null,
      "outputs": [
        {
          "output_type": "stream",
          "text": [
            "/usr/local/lib/python3.6/dist-packages/seaborn/_decorators.py:43: FutureWarning: Pass the following variable as a keyword arg: x. From version 0.12, the only valid positional argument will be `data`, and passing other arguments without an explicit keyword will result in an error or misinterpretation.\n",
            "  FutureWarning\n",
            "/usr/local/lib/python3.6/dist-packages/seaborn/_decorators.py:43: FutureWarning: Pass the following variable as a keyword arg: x. From version 0.12, the only valid positional argument will be `data`, and passing other arguments without an explicit keyword will result in an error or misinterpretation.\n",
            "  FutureWarning\n",
            "/usr/local/lib/python3.6/dist-packages/seaborn/_decorators.py:43: FutureWarning: Pass the following variable as a keyword arg: x. From version 0.12, the only valid positional argument will be `data`, and passing other arguments without an explicit keyword will result in an error or misinterpretation.\n",
            "  FutureWarning\n",
            "/usr/local/lib/python3.6/dist-packages/seaborn/_decorators.py:43: FutureWarning: Pass the following variable as a keyword arg: x. From version 0.12, the only valid positional argument will be `data`, and passing other arguments without an explicit keyword will result in an error or misinterpretation.\n",
            "  FutureWarning\n"
          ],
          "name": "stderr"
        },
        {
          "output_type": "display_data",
          "data": {
            "image/png": "[encoded data removed]",
            "text/plain": [
              "<Figure size 1440x360 with 4 Axes>"
            ]
          },
          "metadata": {
            "tags": []
          }
        }
      ]
    },
    {
      "cell_type": "code",
      "metadata": {
        "id": "uB6fv1a9r3Gf"
      },
      "source": [
        "#Utifrån grafen ser vi att de flesta olyckor sker inte i samband med trafikljus. "
      ],
      "execution_count": null,
      "outputs": []
    },
    {
      "cell_type": "code",
      "metadata": {
        "id": "pGBpIaZcBxUL",
        "outputId": "764940af-01df-4fc4-b2be-a55c4a736485",
        "colab": {
          "base_uri": "https://localhost:8080/",
          "height": 388
        }
      },
      "source": [
        "plt.figure(figsize=(10,5))\n",
        "sns.countplot(x='Year', hue='Severity', data=df ,palette=\"Set2\")\n",
        "plt.title('Count of Accidents by Year (resampled data)', size=15, y=1.05)\n",
        "plt.show()"
      ],
      "execution_count": null,
      "outputs": [
        {
          "output_type": "display_data",
          "data": {
            "image/png": "[encoded data removed]",
            "text/plain": [
              "<Figure size 720x360 with 1 Axes>"
            ]
          },
          "metadata": {
            "tags": []
          }
        }
      ]
    },
    {
      "cell_type": "code",
      "metadata": {
        "id": "4pJxIcoWCCSj",
        "outputId": "23fa9af0-2d95-48b9-d18e-44c78c62ecf0",
        "colab": {
          "base_uri": "https://localhost:8080/",
          "height": 388
        }
      },
      "source": [
        "plt.figure(figsize=(10,5))\n",
        "sns.countplot(x='Weekday', hue='Severity', data=df ,palette=\"Set2\")\n",
        "plt.title('Count of Accidents by Weekday (resampled data)', size=15, y=1.05)\n",
        "plt.show()"
      ],
      "execution_count": null,
      "outputs": [
        {
          "output_type": "display_data",
          "data": {
            "image/png": "[encoded data removed]",
            "text/plain": [
              "<Figure size 720x360 with 1 Axes>"
            ]
          },
          "metadata": {
            "tags": []
          }
        }
      ]
    },
    {
      "cell_type": "code",
      "metadata": {
        "id": "XO-_KkW5T1f3"
      },
      "source": [
        "#Sker flest olyckor på vardagar"
      ],
      "execution_count": null,
      "outputs": []
    },
    {
      "cell_type": "code",
      "metadata": {
        "id": "skSXnJzkCYK_",
        "outputId": "d648e9e5-26e7-4bc3-f2c4-bbe4c0a9013b",
        "colab": {
          "base_uri": "https://localhost:8080/",
          "height": 388
        }
      },
      "source": [
        "plt.figure(figsize=(15,5))\n",
        "sns.countplot(x='Hour', hue='Severity', data=df ,palette=\"Set2\")\n",
        "plt.title('Count of Accidents by Hour (resampled data)', size=15, y=1.05)\n",
        "plt.show()"
      ],
      "execution_count": null,
      "outputs": [
        {
          "output_type": "display_data",
          "data": {
            "image/png": "[encoded data removed]",
            "text/plain": [
              "<Figure size 1080x360 with 1 Axes>"
            ]
          },
          "metadata": {
            "tags": []
          }
        }
      ]
    },
    {
      "cell_type": "code",
      "metadata": {
        "id": "GxCRBly-sSH3"
      },
      "source": [
        "#De flesta olyckor sker i samband med resor till och från jobbet(kl 7-11 och kl 16-18).  "
      ],
      "execution_count": null,
      "outputs": []
    },
    {
      "cell_type": "markdown",
      "metadata": {
        "id": "scYR5gDD7hnw"
      },
      "source": [
        "## Modellering\n",
        "\n",
        "Skapa modeller från ert dataset. Testa och träna. Minst två modeller per fråga, alltså 4 modeller totalt. (20 poäng)"
      ]
    },
    {
      "cell_type": "code",
      "metadata": {
        "id": "H1nP0Rvqi234",
        "outputId": "05b00741-fe6e-4cd4-8047-30312300f3b4",
        "colab": {
          "base_uri": "https://localhost:8080/"
        }
      },
      "source": [
        "df_state_dummy.columns"
      ],
      "execution_count": null,
      "outputs": [
        {
          "output_type": "execute_result",
          "data": {
            "text/plain": [
              "Index(['TMC', 'Severity', 'Start_Lng', 'Start_Lat', 'Distance(mi)',\n",
              "       'Temperature(F)', 'Humidity(%)', 'Pressure(in)', 'Visibility(mi)',\n",
              "       'Amenity',\n",
              "       ...\n",
              "       'Weather_Condition_Thunder in the Vicinity',\n",
              "       'Weather_Condition_Thunderstorm',\n",
              "       'Weather_Condition_Thunderstorms and Rain', 'Sunrise_Sunset_Night',\n",
              "       'Weekday_Mon', 'Weekday_Sat', 'Weekday_Sun', 'Weekday_Thu',\n",
              "       'Weekday_Tue', 'Weekday_Wed'],\n",
              "      dtype='object', length=388)"
            ]
          },
          "metadata": {
            "tags": []
          },
          "execution_count": 370
        }
      ]
    },
    {
      "cell_type": "code",
      "metadata": {
        "id": "Ju5rcJ0T7rQF"
      },
      "source": [
        "#algoritmlista som vi använder till när vi plottar ut resultaten. \n",
        "algo_lst=['Logistic Regression',' K-Nearest Neighbors','Decision Trees','Random Forest']\n",
        "\n",
        "# skapar en listor för våra modellers resultat som beskriver träffsäkerhetn.\n",
        "accuracy_lst=[]\n",
        "accuracy_lst_2=[]"
      ],
      "execution_count": null,
      "outputs": []
    },
    {
      "cell_type": "code",
      "metadata": {
        "id": "hwzxwpK2_egg"
      },
      "source": [
        ""
      ],
      "execution_count": null,
      "outputs": []
    },
    {
      "cell_type": "code",
      "metadata": {
        "id": "yeFI7LLi7f2v"
      },
      "source": [
        "#kod för att träna Traffic_Signal\n",
        "df=df_state_dummy\n",
        "# Vi inriktar oss på Traffic_Signal\n",
        "target='Traffic_Signal'\n",
        "\n",
        "# arrays för funktionerna och sätter responsvariabeln y\n",
        "\n",
        "# tilldelar X & y\n",
        "y = df[target]\n",
        "X = df.drop(target, axis=1)\n",
        "\n",
        "# delar in train och test\n",
        "X_train, X_test, y_train, y_test = train_test_split(X, y, test_size=0.2, random_state=21, stratify=y)"
      ],
      "execution_count": null,
      "outputs": []
    },
    {
      "cell_type": "code",
      "metadata": {
        "id": "GKba8KV52ePm",
        "outputId": "6abbdb85-5ca1-4a9f-a02c-94b9c1e30d02",
        "colab": {
          "base_uri": "https://localhost:8080/"
        }
      },
      "source": [
        "#Algorithm A. Logistic regression\n",
        "# Logistic regression\n",
        "lr = LogisticRegression(random_state=0)\n",
        "lr.fit(X_train,y_train)\n",
        "y_pred=lr.predict(X_test)\n",
        "\n",
        "# Hämtar vårt resultat\n",
        "acc=accuracy_score(y_test, y_pred)\n",
        "\n",
        "# Skirver till lista\n",
        "accuracy_lst_2.append(acc)\n",
        "\n",
        "print(\"[Logistic regression algorithm] accuracy_score: {:.3f}.\".format(acc))"
      ],
      "execution_count": null,
      "outputs": [
        {
          "output_type": "stream",
          "text": [
            "[Logistic regression algorithm] accuracy_score: 0.732.\n"
          ],
          "name": "stdout"
        },
        {
          "output_type": "stream",
          "text": [
            "/usr/local/lib/python3.6/dist-packages/sklearn/linear_model/_logistic.py:940: ConvergenceWarning: lbfgs failed to converge (status=1):\n",
            "STOP: TOTAL NO. of ITERATIONS REACHED LIMIT.\n",
            "\n",
            "Increase the number of iterations (max_iter) or scale the data as shown in:\n",
            "    https://scikit-learn.org/stable/modules/preprocessing.html\n",
            "Please also refer to the documentation for alternative solver options:\n",
            "    https://scikit-learn.org/stable/modules/linear_model.html#logistic-regression\n",
            "  extra_warning_msg=_LOGISTIC_SOLVER_CONVERGENCE_MSG)\n"
          ],
          "name": "stderr"
        }
      ]
    },
    {
      "cell_type": "code",
      "metadata": {
        "id": "c7vocswIQQoN",
        "outputId": "32a7f455-ee96-4cdd-cc4a-d2c86827440d",
        "colab": {
          "base_uri": "https://localhost:8080/"
        }
      },
      "source": [
        "#Algorithm B. The K-Nearest Neighbors (KNN) algorithm\n",
        "# skapar K-NN med 6 Neighbors\n",
        "knn = KNeighborsClassifier(n_neighbors=6)\n",
        "\n",
        "# anpassar classifiern till vår data\n",
        "knn.fit(X_train,y_train)\n",
        "\n",
        "# Predikterar för training data X\n",
        "y_pred = knn.predict(X_test)\n",
        "\n",
        "# Hämtar resultat\n",
        "acc=accuracy_score(y_test, y_pred)\n",
        "\n",
        "# Skriver till lista\n",
        "accuracy_lst_2.append(acc)\n",
        "\n",
        "print('[K-Nearest Neighbors (KNN)] knn.score: {:.3f}.'.format(knn.score(X_test, y_test)))\n",
        "print('[K-Nearest Neighbors (KNN)] accuracy_score: {:.3f}.'.format(acc))"
      ],
      "execution_count": null,
      "outputs": [
        {
          "output_type": "stream",
          "text": [
            "[K-Nearest Neighbors (KNN)] knn.score: 0.642.\n",
            "[K-Nearest Neighbors (KNN)] accuracy_score: 0.642.\n"
          ],
          "name": "stdout"
        }
      ]
    },
    {
      "cell_type": "code",
      "metadata": {
        "id": "3oj9Fb0jQXo3",
        "outputId": "fdaa2291-31af-4a58-858b-940957b710ae",
        "colab": {
          "base_uri": "https://localhost:8080/"
        }
      },
      "source": [
        "#Algorithm C. Decision Tree\n",
        "# Decision tree algorithm\n",
        "\n",
        "# instanierar dt_entropy och sätter entropy som kriterium. entropy räknar ut hur abstrakt vår data är. Vid lågt värde är datan mer organiserad.\n",
        "dt_entropy = DecisionTreeClassifier(max_depth=8, criterion='entropy', random_state=1)\n",
        "\n",
        "# anpssar dt_entropy till träningsdatan\n",
        "dt_entropy.fit(X_train, y_train)\n",
        "\n",
        "#  predikterar för testdatan\n",
        "y_pred= dt_entropy.predict(X_test)\n",
        "\n",
        "# Utvärderar accuracy_entropy\n",
        "accuracy_entropy = accuracy_score(y_test, y_pred)\n",
        "\n",
        "print('[Decision Tree -- entropy] accuracy_score: {:.3f}.'.format(accuracy_entropy))\n",
        "\n",
        "# Instanierar dt_gini, sätter 'gini' som kriterium. Räknar ut sannolikheten för felval. \n",
        "dt_gini = DecisionTreeClassifier(max_depth=8, criterion='gini', random_state=1)\n",
        "\n",
        "# Anpassar dt_gini till träningsdatan\n",
        "dt_gini.fit(X_train, y_train)\n",
        "\n",
        "# dt_gini används till att prediktera\n",
        "y_pred= dt_gini.predict(X_test)\n",
        "\n",
        "# Utvärderar accuracy_gini\n",
        "accuracy_gini = accuracy_score(y_test, y_pred)\n",
        "\n",
        "# skiver till lista\n",
        "acc=accuracy_gini\n",
        "accuracy_lst_2.append(acc)\n",
        "\n",
        "print('[Decision Tree -- gini] accuracy_score: {:.3f}.'.format(accuracy_gini))"
      ],
      "execution_count": null,
      "outputs": [
        {
          "output_type": "stream",
          "text": [
            "[Decision Tree -- entropy] accuracy_score: 0.745.\n",
            "[Decision Tree -- gini] accuracy_score: 0.747.\n"
          ],
          "name": "stdout"
        }
      ]
    },
    {
      "cell_type": "code",
      "metadata": {
        "id": "x89XrbeRpN9l",
        "outputId": "a5dbb05d-6221-4a61-baa3-8e361f4fdb96",
        "colab": {
          "base_uri": "https://localhost:8080/"
        }
      },
      "source": [
        "#Algorithm D. Random Forest\n",
        "# Random Forest algorithm\n",
        "\n",
        "clf_2=RandomForestClassifier(n_estimators=100)\n",
        "#Tränar modellen\n",
        "clf_2.fit(X_train,y_train)\n",
        "\n",
        "y_pred=clf_2.predict(X_test)\n",
        "\n",
        "\n",
        "# Hämtar resutlat\n",
        "acc=accuracy_score(y_test, y_pred)\n",
        "\n",
        "# skiver till lista\n",
        "accuracy_lst_2.append(acc)\n",
        "\n",
        "print(\"[Randon forest algorithm] accuracy_score: {:.3f}.\".format(acc))"
      ],
      "execution_count": null,
      "outputs": [
        {
          "output_type": "stream",
          "text": [
            "[Randon forest algorithm] accuracy_score: 0.757.\n"
          ],
          "name": "stdout"
        }
      ]
    },
    {
      "cell_type": "code",
      "metadata": {
        "id": "C3aWdxVnL1Nq"
      },
      "source": [
        ""
      ],
      "execution_count": null,
      "outputs": []
    },
    {
      "cell_type": "code",
      "metadata": {
        "id": "TkBhL6KqL1l5"
      },
      "source": [
        ""
      ],
      "execution_count": null,
      "outputs": []
    },
    {
      "cell_type": "code",
      "metadata": {
        "id": "xpxqjCtChBc_"
      },
      "source": [
        "#kod för att träna Severity\n",
        "# Vi inriktar oss på 'Severity'\n",
        "target='Severity'\n",
        "\n",
        "# arrays för funktionerna och sätter responsvariabeln y\n",
        "\n",
        "# tilldelar X & y\n",
        "y = df[target]\n",
        "X = df.drop(target, axis=1)\n",
        "\n",
        "# delar in train och test\n",
        "X_train, X_test, y_train, y_test = train_test_split(X, y, test_size=0.2, random_state=21, stratify=y)"
      ],
      "execution_count": null,
      "outputs": []
    },
    {
      "cell_type": "code",
      "metadata": {
        "id": "I2iQSMuA72jx",
        "outputId": "6ce2ea1c-ff78-404a-c2be-b2e5e9fa87f9",
        "colab": {
          "base_uri": "https://localhost:8080/"
        }
      },
      "source": [
        "#Algorithm A. Logistic regression\n",
        "# Logistic regression\n",
        "lr = LogisticRegression(random_state=0)\n",
        "lr.fit(X_train,y_train)\n",
        "y_pred=lr.predict(X_test)\n",
        "\n",
        "# Hämtar vårt resultat\n",
        "acc=accuracy_score(y_test, y_pred)\n",
        "\n",
        "# Skirver till lista\n",
        "accuracy_lst.append(acc)\n",
        "\n",
        "print(\"[Logistic regression algorithm] accuracy_score: {:.3f}.\".format(acc))"
      ],
      "execution_count": null,
      "outputs": [
        {
          "output_type": "stream",
          "text": [
            "[Logistic regression algorithm] accuracy_score: 0.811.\n"
          ],
          "name": "stdout"
        },
        {
          "output_type": "stream",
          "text": [
            "/usr/local/lib/python3.6/dist-packages/sklearn/linear_model/_logistic.py:940: ConvergenceWarning: lbfgs failed to converge (status=1):\n",
            "STOP: TOTAL NO. of ITERATIONS REACHED LIMIT.\n",
            "\n",
            "Increase the number of iterations (max_iter) or scale the data as shown in:\n",
            "    https://scikit-learn.org/stable/modules/preprocessing.html\n",
            "Please also refer to the documentation for alternative solver options:\n",
            "    https://scikit-learn.org/stable/modules/linear_model.html#logistic-regression\n",
            "  extra_warning_msg=_LOGISTIC_SOLVER_CONVERGENCE_MSG)\n"
          ],
          "name": "stderr"
        }
      ]
    },
    {
      "cell_type": "code",
      "metadata": {
        "id": "a42bBZ3n76Ml",
        "outputId": "da2cdf0f-a5bf-4b64-8da7-350019b6594e",
        "colab": {
          "base_uri": "https://localhost:8080/"
        }
      },
      "source": [
        "#Algorithm B. The K-Nearest Neighbors (KNN) algorithm\n",
        "# skapar K-NN med 6 Neighbors\n",
        "knn = KNeighborsClassifier(n_neighbors=6)\n",
        "\n",
        "# anpassar classifiern till vår data\n",
        "knn.fit(X_train,y_train)\n",
        "\n",
        "# Predikterar för training data X\n",
        "y_pred = knn.predict(X_test)\n",
        "\n",
        "# Hämtar resultat\n",
        "acc=accuracy_score(y_test, y_pred)\n",
        "\n",
        "# Skriver till lista\n",
        "accuracy_lst.append(acc)\n",
        "\n",
        "print('[K-Nearest Neighbors (KNN)] knn.score: {:.3f}.'.format(knn.score(X_test, y_test)))\n",
        "print('[K-Nearest Neighbors (KNN)] accuracy_score: {:.3f}.'.format(acc))"
      ],
      "execution_count": null,
      "outputs": [
        {
          "output_type": "stream",
          "text": [
            "[K-Nearest Neighbors (KNN)] knn.score: 0.801.\n",
            "[K-Nearest Neighbors (KNN)] accuracy_score: 0.801.\n"
          ],
          "name": "stdout"
        }
      ]
    },
    {
      "cell_type": "code",
      "metadata": {
        "id": "GRNUY4Y98dZ-",
        "outputId": "a46afaf5-f20a-45df-a6ae-8e00467de547",
        "colab": {
          "base_uri": "https://localhost:8080/"
        }
      },
      "source": [
        "#Algorithm C. Decision Tree\n",
        "# Decision tree algorithm\n",
        "\n",
        "# instanierar dt_entropy och sätter entropy som kriterium\n",
        "dt_entropy = DecisionTreeClassifier(max_depth=8, criterion='entropy', random_state=1)\n",
        "\n",
        "# anpssar dt_entropy till träningsdatan\n",
        "dt_entropy.fit(X_train, y_train)\n",
        "\n",
        "# predikterar för testdatan\n",
        "y_pred= dt_entropy.predict(X_test)\n",
        "\n",
        "# Utvärderar accuracy_entropy\n",
        "accuracy_entropy = accuracy_score(y_test, y_pred)\n",
        "\n",
        "print('[Decision Tree -- entropy] accuracy_score: {:.3f}.'.format(accuracy_entropy))\n",
        "\n",
        "# Instanierar dt_gini, sätter 'gini' som kriterium\n",
        "dt_gini = DecisionTreeClassifier(max_depth=8, criterion='gini', random_state=1)\n",
        "\n",
        "# Anpassar dt_gini till träningsdatan\n",
        "dt_gini.fit(X_train, y_train)\n",
        "\n",
        "# dt_gini används till att prediktera\n",
        "y_pred= dt_gini.predict(X_test)\n",
        "\n",
        "# Utvärderar accuracy_gini\n",
        "accuracy_gini = accuracy_score(y_test, y_pred)\n",
        "\n",
        "# skiver till lista\n",
        "acc=accuracy_gini\n",
        "accuracy_lst.append(acc)\n",
        "\n",
        "print('[Decision Tree -- gini] accuracy_score: {:.3f}.'.format(accuracy_gini))"
      ],
      "execution_count": null,
      "outputs": [
        {
          "output_type": "stream",
          "text": [
            "[Decision Tree -- entropy] accuracy_score: 0.840.\n",
            "[Decision Tree -- gini] accuracy_score: 0.845.\n"
          ],
          "name": "stdout"
        }
      ]
    },
    {
      "cell_type": "code",
      "metadata": {
        "id": "8TEO1az29qya",
        "outputId": "92cb5250-b0ab-46ac-ee36-016e280e88ef",
        "colab": {
          "base_uri": "https://localhost:8080/"
        }
      },
      "source": [
        "#Algorithm D. Random Forest\n",
        "# Random Forest algorithm\n",
        "\n",
        "#Skapar en classifier för normalfördelning\n",
        "clf=RandomForestClassifier(n_estimators=100)\n",
        "\n",
        "#Tränar modellen\n",
        "clf.fit(X_train,y_train)\n",
        "\n",
        "y_pred=clf.predict(X_test)\n",
        "\n",
        "\n",
        "# Hämtar resutlat\n",
        "acc=accuracy_score(y_test, y_pred)\n",
        "\n",
        "# skiver till lista\n",
        "accuracy_lst.append(acc)\n",
        "\n",
        "print(\"[Randon forest algorithm] accuracy_score: {:.3f}.\".format(acc))"
      ],
      "execution_count": null,
      "outputs": [
        {
          "output_type": "stream",
          "text": [
            "[Randon forest algorithm] accuracy_score: 0.872.\n"
          ],
          "name": "stdout"
        }
      ]
    },
    {
      "cell_type": "markdown",
      "metadata": {
        "id": "Nv2RXf1T7hnz"
      },
      "source": [
        "## Utvärdering\n",
        "\n",
        "Jämför minst två modeller för varje av dina två frågor och fyra olika modeller totalt. För full poäng ska dessutom flera mått på kvalitet användas. (20 poäng)"
      ]
    },
    {
      "cell_type": "code",
      "metadata": {
        "id": "5pENF-89-fBr",
        "outputId": "423104e7-30dd-4271-9e60-38e62cae9d72",
        "colab": {
          "base_uri": "https://localhost:8080/",
          "height": 589
        }
      },
      "source": [
        "plt.figure(figsize=(25,15))\n",
        "feature_imp = pd.Series(clf.feature_importances_,index=X.columns).sort_values(ascending=False)\n",
        "\n",
        "# bar plot för top funktioner\n",
        "k=15\n",
        "sns.barplot(x=feature_imp[:15], y=feature_imp.index[:k])\n",
        "# rubriker\n",
        "plt.xlabel('Feature Importance Score')\n",
        "plt.ylabel('Features')\n",
        "plt.title(\"Visualizing Important Features\")\n",
        "plt.legend()\n",
        "plt.show()"
      ],
      "execution_count": null,
      "outputs": [
        {
          "output_type": "stream",
          "text": [
            "No handles with labels found to put in legend.\n"
          ],
          "name": "stderr"
        },
        {
          "output_type": "display_data",
          "data": {
            "image/png": "[encoded data removed]",
            "text/plain": [
              "<Figure size 1800x1080 with 1 Axes>"
            ]
          },
          "metadata": {
            "tags": []
          }
        }
      ]
    },
    {
      "cell_type": "code",
      "metadata": {
        "id": "wibxrpHf_k41",
        "outputId": "2cd81563-3231-4195-a69a-980b4daf014f",
        "colab": {
          "base_uri": "https://localhost:8080/"
        }
      },
      "source": [
        "# listar top funktioner\n",
        "k=15\n",
        "feature_imp.sort_values(ascending=False)[:k]"
      ],
      "execution_count": null,
      "outputs": [
        {
          "output_type": "execute_result",
          "data": {
            "text/plain": [
              "Start_Lat             0.113670\n",
              "Start_Lng             0.106062\n",
              "TMC                   0.079240\n",
              "Pressure(in)          0.059239\n",
              "Temperature(F)        0.058876\n",
              "Humidity(%)           0.057654\n",
              "Time_Duration(min)    0.052870\n",
              "Hour                  0.051015\n",
              "Side_R                0.037683\n",
              "Traffic_Signal        0.037238\n",
              "Distance(mi)          0.020362\n",
              "Junction              0.019669\n",
              "Visibility(mi)        0.017409\n",
              "City_Fort Worth       0.012842\n",
              "Crossing              0.009397\n",
              "dtype: float64"
            ]
          },
          "metadata": {
            "tags": []
          },
          "execution_count": 384
        }
      ]
    },
    {
      "cell_type": "code",
      "metadata": {
        "id": "Rq-egCuDJNSJ"
      },
      "source": [
        ""
      ],
      "execution_count": null,
      "outputs": []
    },
    {
      "cell_type": "code",
      "metadata": {
        "id": "SzbKOiza_soS",
        "outputId": "0cb66353-d0c7-4a7b-e59e-556bf66a48de",
        "colab": {
          "base_uri": "https://localhost:8080/"
        }
      },
      "source": [
        "#väljer top funktioenr, sätter threshold\n",
        "#Skapar ett selektor-objekt som vi använder som nyttjar random forest classifier för att hitta funktioner med ett värde över 0.02\n",
        "sfm = SelectFromModel(clf, threshold=0.02)\n",
        "\n",
        "# tränar vårt objekt\n",
        "sfm.fit(X_train, y_train)\n",
        "\n",
        "feat_labels=X.columns\n",
        "\n",
        "# skriver ut namnen på de viktgiast funktioerna\n",
        "for feature_list_index in sfm.get_support(indices=True):\n",
        "    print(feat_labels[feature_list_index])"
      ],
      "execution_count": null,
      "outputs": [
        {
          "output_type": "stream",
          "text": [
            "TMC\n",
            "Start_Lng\n",
            "Start_Lat\n",
            "Distance(mi)\n",
            "Temperature(F)\n",
            "Humidity(%)\n",
            "Pressure(in)\n",
            "Traffic_Signal\n",
            "Hour\n",
            "Time_Duration(min)\n",
            "Side_R\n"
          ],
          "name": "stdout"
        }
      ]
    },
    {
      "cell_type": "code",
      "metadata": {
        "id": "1FB4ndza_7Kz",
        "outputId": "9689feb9-725a-4ff4-b2c6-5600cfd762c8",
        "colab": {
          "base_uri": "https://localhost:8080/"
        }
      },
      "source": [
        "# Transformer till nytt dataset med viktigaste funktioerna\n",
        "X_important_train = sfm.transform(X_train)\n",
        "X_important_test = sfm.transform(X_test)\n",
        "\n",
        "# Ny random forest klassificerar för de vitkgaste funktioerna\n",
        "clf_important = RandomForestClassifier(n_estimators=100, random_state=0, n_jobs=-1)\n",
        "\n",
        "# tränar klassficeraren på vårt nya dataset\n",
        "clf_important.fit(X_important_train, y_train)"
      ],
      "execution_count": null,
      "outputs": [
        {
          "output_type": "execute_result",
          "data": {
            "text/plain": [
              "RandomForestClassifier(bootstrap=True, ccp_alpha=0.0, class_weight=None,\n",
              "                       criterion='gini', max_depth=None, max_features='auto',\n",
              "                       max_leaf_nodes=None, max_samples=None,\n",
              "                       min_impurity_decrease=0.0, min_impurity_split=None,\n",
              "                       min_samples_leaf=1, min_samples_split=2,\n",
              "                       min_weight_fraction_leaf=0.0, n_estimators=100,\n",
              "                       n_jobs=-1, oob_score=False, random_state=0, verbose=0,\n",
              "                       warm_start=False)"
            ]
          },
          "metadata": {
            "tags": []
          },
          "execution_count": 386
        }
      ]
    },
    {
      "cell_type": "code",
      "metadata": {
        "id": "kI9qoGt1AlAP",
        "outputId": "f8eb2256-6475-4184-d5e0-f25ba1cdec00",
        "colab": {
          "base_uri": "https://localhost:8080/"
        }
      },
      "source": [
        "# Tillämpar nya klassificeraren för vår testdata\n",
        "y_pred = clf.predict(X_test)\n",
        "\n",
        "# Visar träffsäkerheten för den nya modellen.\n",
        "print('[Randon forest algorithm -- Full feature] accuracy_score: {:.3f}.'.format(accuracy_score(y_test, y_pred)))\n",
        "\n",
        "# Tillämpar vår fullständiga klassificerare på den nya testdatan \n",
        "y_important_pred = clf_important.predict(X_important_test)\n",
        "\n",
        "# jämför träffsäkerheten\n",
        "print('[Randon forest algorithm -- Limited feature] accuracy_score: {:.3f}.'.format(accuracy_score(y_test, y_important_pred)))"
      ],
      "execution_count": null,
      "outputs": [
        {
          "output_type": "stream",
          "text": [
            "[Randon forest algorithm -- Full feature] accuracy_score: 0.872.\n",
            "[Randon forest algorithm -- Limited feature] accuracy_score: 0.890.\n"
          ],
          "name": "stdout"
        }
      ]
    },
    {
      "cell_type": "code",
      "metadata": {
        "id": "ITd2T5LpAqMB",
        "outputId": "c731369a-a5f5-47b0-a483-b1152910059c",
        "colab": {
          "base_uri": "https://localhost:8080/",
          "height": 318
        }
      },
      "source": [
        "# plotar träffsäkerheten för algoritmerna på Severity\n",
        "\n",
        "# Skapar y-axis punkter\n",
        "y_ticks=np.arange(len(algo_lst))\n",
        "\n",
        "# skapar en dataframe för våra algortimer och resutlaten samt sorterar efter träffsäkerhetn\n",
        "df_acc=pd.DataFrame(list(zip(algo_lst, accuracy_lst)), columns=['Algorithm','Accuracy_Score']).sort_values(by=['Accuracy_Score'],ascending = True)\n",
        "\n",
        "# Exporterar data\n",
        "df_acc.to_csv('./Accuracy_scores_algorithms_{}.csv'.format(state),index=False)\n",
        "\n",
        "# Skapar plot\n",
        "ax=df_acc.plot.barh('Algorithm', 'Accuracy_Score', align='center',legend=False,color='0.5')\n",
        "\n",
        "# Rubriksättning\n",
        "for i in ax.patches:\n",
        "    # get_width justerar åt vänster eller höger; get_y justeras upp eller ned\n",
        "    ax.text(i.get_width()+0.02, i.get_y()+0.2, str(round(i.get_width(),2)), fontsize=10)\n",
        "\n",
        "# Sätter lables, ticks, limit och title\n",
        "plt.xlim(0,1.05)\n",
        "plt.xlabel('Accuracy Score')\n",
        "plt.yticks(y_ticks, df_acc['Algorithm'], rotation=0)\n",
        "plt.title('[{}] Which algorithm is better?'.format(state))\n",
        "\n",
        "plt.show()"
      ],
      "execution_count": null,
      "outputs": [
        {
          "output_type": "display_data",
          "data": {
            "image/png": "[encoded data removed]",
            "text/plain": [
              "<Figure size 432x288 with 1 Axes>"
            ]
          },
          "metadata": {
            "tags": []
          }
        }
      ]
    },
    {
      "cell_type": "code",
      "metadata": {
        "id": "J0Zn9SUQtwVV"
      },
      "source": [
        "#För Traffic_signals"
      ],
      "execution_count": null,
      "outputs": []
    },
    {
      "cell_type": "code",
      "metadata": {
        "id": "q-er7x4NtzGw",
        "outputId": "286dfe06-1043-4286-add4-8815bdf3bc3b",
        "colab": {
          "base_uri": "https://localhost:8080/",
          "height": 318
        }
      },
      "source": [
        "# plotar träffsäkerheten för algoritmer på Traffic_Signals\n",
        "\n",
        "# Skapar y-axis punkter\n",
        "y_ticks=np.arange(len(algo_lst))\n",
        "\n",
        "# skapar en dataframe för våra algortimer och resutlaten samt sorterar efter träffsäkerhetn\n",
        "df_acc=pd.DataFrame(list(zip(algo_lst, accuracy_lst_2)), columns=['Algorithm','Accuracy_Score']).sort_values(by=['Accuracy_Score'],ascending = True)\n",
        "\n",
        "# Exporterar data\n",
        "df_acc.to_csv('./Accuracy_scores_algorithms_{}.csv'.format(state),index=False)\n",
        "\n",
        "# Skapar plot\n",
        "ax=df_acc.plot.barh('Algorithm', 'Accuracy_Score', align='center',legend=False,color='0.5')\n",
        "\n",
        "# Rubriksättning\n",
        "for i in ax.patches:\n",
        "    # get_width justerar åt vänster eller höger; get_y justeras upp eller ned\n",
        "    ax.text(i.get_width()+0.02, i.get_y()+0.2, str(round(i.get_width(),2)), fontsize=10)\n",
        "\n",
        "# Sätter lables, ticks, limit och title\n",
        "plt.xlim(0,1.05)\n",
        "plt.xlabel('Accuracy Score')\n",
        "plt.yticks(y_ticks, df_acc['Algorithm'], rotation=0)\n",
        "plt.title('[{}] Which algorithm is better?'.format(state))\n",
        "\n",
        "plt.show()"
      ],
      "execution_count": null,
      "outputs": [
        {
          "output_type": "display_data",
          "data": {
            "image/png": "[encoded data removed]",
            "text/plain": [
              "<Figure size 432x288 with 1 Axes>"
            ]
          },
          "metadata": {
            "tags": []
          }
        }
      ]
    },
    {
      "cell_type": "code",
      "metadata": {
        "id": "IG1MZtn7uUo3"
      },
      "source": [
        "#Om man enbart utgår utifrån träffsäkerheten är Random Forest den mest överlägsna algoritmen. KNN är både sämre i träffsäkerhetn och tar lång tid i körningen."
      ],
      "execution_count": null,
      "outputs": []
    }
  ]
}